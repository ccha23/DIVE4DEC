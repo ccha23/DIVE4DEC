{
 "cells": [
  {
   "cell_type": "markdown",
   "metadata": {
    "user_expressions": []
   },
   "source": [
    "## DIVE Widgets"
   ]
  },
  {
   "cell_type": "markdown",
   "metadata": {
    "user_expressions": []
   },
   "source": [
    "### JSXGraph"
   ]
  },
  {
   "cell_type": "markdown",
   "metadata": {
    "user_expressions": []
   },
   "source": [
    "[JSXGraph](https://jsxgraph.org/) can be rendered using the following magic:"
   ]
  },
  {
   "cell_type": "code",
   "execution_count": 1,
   "metadata": {
    "ExecuteTime": {
     "end_time": "2022-07-27T05:15:40.986821Z",
     "start_time": "2022-07-27T05:15:40.971531Z"
    }
   },
   "outputs": [
    {
     "data": {
      "text/plain": [
       "\u001b[0;31mDocstring:\u001b[0m\n",
       "::\n",
       "\n",
       "  %jsxgraph [-w WIDTH] [-i ID] [-h HEIGHT] [-m MATHJAX_URL]\n",
       "\n",
       "Run the cell block of JSXGraph Code.\n",
       "\n",
       "optional arguments:\n",
       "  -w WIDTH, --width WIDTH\n",
       "                        The width of the output frame (default: 600).\n",
       "  -i ID, --id ID        id of a <div> element for embeding the board.\n",
       "  -h HEIGHT, --height HEIGHT\n",
       "                        The height of the output frame (default: 600).\n",
       "  -m MATHJAX_URL, --mathjax_url MATHJAX_URL\n",
       "                        Absolute/relative url of the javascript file in\n",
       "                        loading mathjax.\n",
       "\u001b[0;31mFile:\u001b[0m      ~/Git/DIVE4DEC/divewidgets/divewidgets/magic.py\n"
      ]
     },
     "metadata": {},
     "output_type": "display_data"
    }
   ],
   "source": [
    "%reload_ext divewidgets\n",
    "%%jsxgraph?"
   ]
  },
  {
   "cell_type": "code",
   "execution_count": 2,
   "metadata": {
    "ExecuteTime": {
     "end_time": "2022-07-27T05:15:45.266330Z",
     "start_time": "2022-07-27T05:15:41.926643Z"
    },
    "tags": []
   },
   "outputs": [
    {
     "data": {
      "application/vnd.jupyter.widget-view+json": {
       "model_id": "16f71110b8c84a1e9a14df02a9efca71",
       "version_major": 2,
       "version_minor": 0
      },
      "text/plain": [
       "DIVEWidget(value=None, html='<!DOCTYPE html>\\n<html>\\n    <head>\\n    <style>\\n    html, body {\\n        heigh…"
      ]
     },
     "metadata": {},
     "output_type": "display_data"
    }
   ],
   "source": [
    "%%jsxgraph\n",
    "JXG.Options.text.useMathJax = true;\n",
    "var brd = JXG.JSXGraph.initBoard('box', {\n",
    "    boundingbox: [-8, 8, 8, -4],\n",
    "    axis: true,\n",
    "    showCopyright: false\n",
    "});\n",
    "var a = brd.create('slider', [\n",
    "    [3, 3],\n",
    "    [6, 3],\n",
    "    [-3, 1, 3]\n",
    "], {\n",
    "    name: 'a',\n",
    "    snapWidth: 0.1\n",
    "});\n",
    "var b = brd.create('slider', [\n",
    "    [3, 2],\n",
    "    [6, 2],\n",
    "    [-3, 0, 3]\n",
    "], {\n",
    "    name: 'b',\n",
    "    snapWidth: 0.1\n",
    "});\n",
    "var c = brd.create('slider', [\n",
    "    [3, 1],\n",
    "    [6, 1],\n",
    "    [-3, 0, 3]\n",
    "], {\n",
    "    name: 'c',\n",
    "    snapWidth: 0.1\n",
    "});\n",
    "brd.create('functiongraph', [function(x) {\n",
    "    return a.Value() * x * x + b.Value() * x + c.Value();\n",
    "}, -10, 10]);\n",
    "brd.create('text',\n",
    "    [-2, 0,\n",
    "        function() {\n",
    "            return String.raw`\n",
    "              \\begin{align*} \n",
    "              y&=ax^2+bx+c\\\\ \n",
    "               &= ${a.Value().toFixed(2)}x^2 \n",
    "                + ${b.Value().toFixed(2)}x \n",
    "                + ${c.Value().toFixed(2)}\n",
    "              \\end{align*}`;\n",
    "        }\n",
    "    ], {\n",
    "        anchorX: 'right',\n",
    "        anchorY: 'bottom'\n",
    "    });"
   ]
  },
  {
   "cell_type": "markdown",
   "metadata": {
    "user_expressions": []
   },
   "source": [
    "The rendering can be customized with additional arguments:"
   ]
  },
  {
   "cell_type": "code",
   "execution_count": 3,
   "metadata": {},
   "outputs": [
    {
     "data": {
      "application/vnd.jupyter.widget-view+json": {
       "model_id": "afc171a1004d45448a6a7c3de5c1ad17",
       "version_major": 2,
       "version_minor": 0
      },
      "text/plain": [
       "DIVEWidget(value=None, height=300, html='<!DOCTYPE html>\\n<html>\\n    <head>\\n    <style>\\n    html, body {\\n …"
      ]
     },
     "metadata": {},
     "output_type": "display_data"
    }
   ],
   "source": [
    "%%jsxgraph -i jxgbox -h 300 -m https://www.cs.cityu.edu.hk/~ccha23/js/load-mathjax.js\n",
    "JXG.Options.text.useMathJax = true;\n",
    "const brd = JXG.JSXGraph.initBoard('jxgbox', {\n",
    "    boundingbox: [-8, 8, 8, -4],\n",
    "    axis: true,\n",
    "    showCopyright: false\n",
    "});\n",
    "const a = brd.create('slider', [\n",
    "    [3, 3],\n",
    "    [6, 3],\n",
    "    [-3, 1, 3]\n",
    "], {\n",
    "    name: 'a',\n",
    "    snapWidth: 0.1\n",
    "});\n",
    "const b = brd.create('slider', [\n",
    "    [3, 2],\n",
    "    [6, 2],\n",
    "    [-3, 0, 3]\n",
    "], {\n",
    "    name: 'b',\n",
    "    snapWidth: 0.1\n",
    "});\n",
    "const c = brd.create('slider', [\n",
    "    [3, 1],\n",
    "    [6, 1],\n",
    "    [-3, 0, 3]\n",
    "], {\n",
    "    name: 'c',\n",
    "    snapWidth: 0.1\n",
    "});\n",
    "brd.create('functiongraph', [function(x) {\n",
    "    return a.Value() * x * x + b.Value() * x + c.Value();\n",
    "}, -10, 10]);\n",
    "brd.create('text',\n",
    "    [-1, -1,\n",
    "        function() {\n",
    "            return String.raw`\n",
    "              \\begin{empheq}[left={\\text{Parabola} \\empheqlbrace}]{align}\n",
    "              y&=ax^2+bx+c\\tag{1}\\\\ \n",
    "               &= ${a.Value().toFixed(2)}x^2 \n",
    "                + ${b.Value().toFixed(2)}x \n",
    "                + ${c.Value().toFixed(2)} \\tag{2}\n",
    "              \\end{empheq}`;\n",
    "        }\n",
    "    ], {\n",
    "        anchorX: 'right',\n",
    "        anchorY: 'top'\n",
    "    });"
   ]
  },
  {
   "cell_type": "markdown",
   "metadata": {
    "user_expressions": []
   },
   "source": [
    "The above typesets the label using [a custom configuration of mathjax3](https://www.cs.cityu.edu.hk/~ccha23/js/load-mathjax.js)."
   ]
  },
  {
   "cell_type": "markdown",
   "metadata": {
    "user_expressions": []
   },
   "source": [
    "Try the following:\n",
    "- Click `show code` to show the javascript and html code used to generate the JSXGraph. \n",
    "- Modify the javascript code under the `JS` panel or the html code uner the `HTML` panel. \n",
    "- Click `run code` or `Ctrl-R` while the cursor remains in the editor. You can see the JSXGraph refreshed according to your change.\n",
    "- Execute the following to save the result into `dw`."
   ]
  },
  {
   "cell_type": "code",
   "execution_count": 4,
   "metadata": {},
   "outputs": [],
   "source": [
    "dw = _"
   ]
  },
  {
   "cell_type": "markdown",
   "metadata": {
    "user_expressions": []
   },
   "source": [
    "The JSXGraph is implemented as a `ipywidget` called `DIVEWidget`, so the code can be stored as model attributes."
   ]
  },
  {
   "cell_type": "code",
   "execution_count": 5,
   "metadata": {},
   "outputs": [
    {
     "data": {
      "text/plain": [
       "\u001b[0;31mType:\u001b[0m           DIVEWidget\n",
       "\u001b[0;31mString form:\u001b[0m    DIVEWidget(value=None, height=300, html='<!DOCTYPE html>\\n<html>\\n    <head>\\n    <style>\\n    ht <...> \\end{empheq}`;\\n        }\\n    ], {\\n        anchorX: 'right',\\n        anchorY: 'top'\\n    });\")\n",
       "\u001b[0;31mFile:\u001b[0m           ~/Git/DIVE4DEC/divewidgets/divewidgets/widget.py\n",
       "\u001b[0;31mDocstring:\u001b[0m     \n",
       "Renders an IFrame from editable Javascript and HTML.\n",
       "\n",
       "Parameters\n",
       "----------\n",
       "js: string\n",
       "    Javascript code.\n",
       "html: string\n",
       "    HTML code. \n",
       "\n",
       "Returns\n",
       "-------\n",
       "Widget: html with js appended to the body. \n",
       "    The html and js code can be edited and re-rendered.\n",
       "\u001b[0;31mInit docstring:\u001b[0m Public constructor\n"
      ]
     },
     "metadata": {},
     "output_type": "display_data"
    }
   ],
   "source": [
    "dw?"
   ]
  },
  {
   "cell_type": "markdown",
   "metadata": {
    "user_expressions": []
   },
   "source": [
    "To have your modifications persist after the notebook closes, you can save the notebook after choosing `Save Widget State Automatically` under `Settings`. Alternatively, copy the `javascript` and `html` attributes from the `DIVEWidget`."
   ]
  },
  {
   "cell_type": "code",
   "execution_count": 6,
   "metadata": {},
   "outputs": [
    {
     "name": "stdout",
     "output_type": "stream",
     "text": [
      "JXG.Options.text.useMathJax = true;\n",
      "const brd = JXG.JSXGraph.initBoard('jxgbox', {\n",
      "    boundingbox: [-8, 8, 8, -4],\n",
      "    axis: true,\n",
      "    showCopyright: false\n",
      "});\n",
      "const a = brd.create('slider', [\n",
      "    [3, 3],\n",
      "    [6, 3],\n",
      "    [-3, 1, 3]\n",
      "], {\n",
      "    name: 'a',\n",
      "    snapWidth: 0.1\n",
      "});\n",
      "const b = brd.create('slider', [\n",
      "    [3, 2],\n",
      "    [6, 2],\n",
      "    [-3, 0, 3]\n",
      "], {\n",
      "    name: 'b',\n",
      "    snapWidth: 0.1\n",
      "});\n",
      "const c = brd.create('slider', [\n",
      "    [3, 1],\n",
      "    [6, 1],\n",
      "    [-3, 0, 3]\n",
      "], {\n",
      "    name: 'c',\n",
      "    snapWidth: 0.1\n",
      "});\n",
      "brd.create('functiongraph', [function(x) {\n",
      "    return a.Value() * x * x + b.Value() * x + c.Value();\n",
      "}, -10, 10]);\n",
      "brd.create('text',\n",
      "    [-1, -1,\n",
      "        function() {\n",
      "            return String.raw`\n",
      "              \\begin{empheq}[left={\\text{Parabola} \\empheqlbrace}]{align}\n",
      "              y&=ax^2+bx+c\\tag{1}\\\\ \n",
      "               &= ${a.Value().toFixed(2)}x^2 \n",
      "                + ${b.Value().toFixed(2)}x \n",
      "                + ${c.Value().toFixed(2)} \\tag{2}\n",
      "              \\end{empheq}`;\n",
      "        }\n",
      "    ], {\n",
      "        anchorX: 'right',\n",
      "        anchorY: 'top'\n",
      "    });\n"
     ]
    }
   ],
   "source": [
    "print(dw.js)"
   ]
  },
  {
   "cell_type": "code",
   "execution_count": 7,
   "metadata": {},
   "outputs": [
    {
     "name": "stdout",
     "output_type": "stream",
     "text": [
      "<!DOCTYPE html>\n",
      "<html>\n",
      "    <head>\n",
      "    <style>\n",
      "    html, body {\n",
      "        height: 100%;\n",
      "    }\n",
      "    body {\n",
      "        width: 100%;\n",
      "        display: flex;\n",
      "        padding: 0;\n",
      "        margin: 0;\n",
      "    }\n",
      "    .jxgbox {\n",
      "        width:100%; \n",
      "        flex-grow: 1;\n",
      "    }\n",
      "    </style>\n",
      "    <link rel=\"stylesheet\" type=\"text/css\" href=\"https://jsxgraph.org/distrib/jsxgraph.css\" />\n",
      "    <script type=\"text/javascript\" src=\"https://cdn.jsdelivr.net/npm/jsxgraph/distrib/jsxgraphcore.js\"></script>\n",
      "    <script type=\"text/javascript\" src=\"https://www.cs.cityu.edu.hk/~ccha23/js/load-mathjax.js\"></script>\n",
      "    </head>\n",
      "<body>\n",
      "<div id=\"jxgbox\" class=\"jxgbox\"></div>\n",
      "</body>\n",
      "</html>\n"
     ]
    }
   ],
   "source": [
    "print(dw.html)"
   ]
  },
  {
   "cell_type": "markdown",
   "metadata": {
    "user_expressions": []
   },
   "source": [
    "## Other JS rendered graphs"
   ]
  },
  {
   "cell_type": "markdown",
   "metadata": {
    "user_expressions": []
   },
   "source": [
    "### Mermaid"
   ]
  },
  {
   "cell_type": "code",
   "execution_count": 8,
   "metadata": {},
   "outputs": [
    {
     "data": {
      "text/plain": [
       "\u001b[0;31mDocstring:\u001b[0m\n",
       "Run the cell block of MermaidJS code.\n",
       "        \n",
       "\u001b[0;31mFile:\u001b[0m      ~/Git/DIVE4DEC/divewidgets/divewidgets/magic.py\n"
      ]
     },
     "metadata": {},
     "output_type": "display_data"
    }
   ],
   "source": [
    "%%mermaid?"
   ]
  },
  {
   "cell_type": "code",
   "execution_count": 9,
   "metadata": {},
   "outputs": [
    {
     "data": {
      "application/vnd.jupyter.widget-view+json": {
       "model_id": "18d1e5924e524b76879af9aed8a7a41f",
       "version_major": 2,
       "version_minor": 0
      },
      "text/plain": [
       "DIVEWidget(value=None, html='<!DOCTYPE html>\\n<html>\\n<head>\\n  <script src=\"https://cdn.jsdelivr.net/npm/merm…"
      ]
     },
     "metadata": {},
     "output_type": "display_data"
    }
   ],
   "source": [
    "%%mermaid\n",
    "graph TD \n",
    "A[a] --> B[b] \n",
    "B --> C[c] \n",
    "B --> D[d]"
   ]
  },
  {
   "cell_type": "markdown",
   "metadata": {
    "user_expressions": []
   },
   "source": [
    "### Flow"
   ]
  },
  {
   "cell_type": "code",
   "execution_count": 10,
   "metadata": {},
   "outputs": [
    {
     "data": {
      "text/plain": [
       "\u001b[0;31mDocstring:\u001b[0m\n",
       "Run the cell block of FlowchartJS code.\n",
       "        \n",
       "\u001b[0;31mFile:\u001b[0m      ~/Git/DIVE4DEC/divewidgets/divewidgets/magic.py\n"
      ]
     },
     "metadata": {},
     "output_type": "display_data"
    }
   ],
   "source": [
    "%%flowchart?"
   ]
  },
  {
   "cell_type": "code",
   "execution_count": 11,
   "metadata": {},
   "outputs": [
    {
     "data": {
      "application/vnd.jupyter.widget-view+json": {
       "model_id": "04cf5f860d5c4cc3b5186d22f6bd9ae5",
       "version_major": 2,
       "version_minor": 0
      },
      "text/plain": [
       "DIVEWidget(value=None, html='<!DOCTYPE html>\\n<html>\\n<head>\\n  <script src=\"http://cdnjs.cloudflare.com/ajax/…"
      ]
     },
     "metadata": {},
     "output_type": "display_data"
    }
   ],
   "source": [
    "%%flowchart\n",
    "cond3=>condition: if (not input(1))\n",
    "cond8=>condition: if input(2)\n",
    "sub12=>subroutine: input(3)\n",
    "\n",
    "cond3(yes)->cond8\n",
    "cond8(yes)->sub12"
   ]
  }
 ],
 "metadata": {
  "kernelspec": {
   "display_name": "Python 3 (ipykernel)",
   "language": "python",
   "name": "python3"
  },
  "language_info": {
   "codemirror_mode": {
    "name": "ipython",
    "version": 3
   },
   "file_extension": ".py",
   "mimetype": "text/x-python",
   "name": "python",
   "nbconvert_exporter": "python",
   "pygments_lexer": "ipython3",
   "version": "3.9.13"
  },
  "toc": {
   "base_numbering": 1,
   "nav_menu": {},
   "number_sections": true,
   "sideBar": true,
   "skip_h1_title": false,
   "title_cell": "Table of Contents",
   "title_sidebar": "Contents",
   "toc_cell": false,
   "toc_position": {},
   "toc_section_display": true,
   "toc_window_display": false
  },
  "widgets": {
   "application/vnd.jupyter.widget-state+json": {
    "state": {
     "04cf5f860d5c4cc3b5186d22f6bd9ae5": {
      "model_module": "jupyter-divewidgets",
      "model_module_version": "^0.1.2",
      "model_name": "DIVEWidgetModel",
      "state": {
       "_model_module_version": "^0.1.2",
       "_view_module_version": "^0.1.2",
       "html": "<!DOCTYPE html>\n<html>\n<head>\n  <script src=\"http://cdnjs.cloudflare.com/ajax/libs/raphael/2.3.0/raphael.min.js\"></script>\n  <script src=\"https://cdnjs.cloudflare.com/ajax/libs/flowchart/1.17.1/flowchart.min.js\"></script>\n</head>\n<body>\n    <div id=\"diagram\">\n    </div>\n    <script>\n    var render = (function () {\n      return (code) => {\n        document.getElementById('diagram').innerHTML = '';\n        flowchart.parse(code).drawSVG('diagram');\n      };    \n    })()\n    </script>\n</body>\n</html>",
       "js": "render(`\ncond3=>condition: if (not input(1))\ncond8=>condition: if input(2)\nsub12=>subroutine: input(3)\n\ncond3(yes)->cond8\ncond8(yes)->sub12\n`);",
       "layout": "IPY_MODEL_c3512515748744f89d4ccf5c53d4c1b1"
      }
     },
     "16f71110b8c84a1e9a14df02a9efca71": {
      "model_module": "jupyter-divewidgets",
      "model_module_version": "^0.1.2",
      "model_name": "DIVEWidgetModel",
      "state": {
       "_model_module_version": "^0.1.2",
       "_view_module_version": "^0.1.2",
       "html": "<!DOCTYPE html>\n<html>\n    <head>\n    <style>\n    html, body {\n        height: 100%;\n    }\n    body {\n        width: 100%;\n        display: flex;\n        padding: 0;\n        margin: 0;\n    }\n    .jxgbox {\n        width:100%; \n        flex-grow: 1;\n    }\n    </style>\n    <link rel=\"stylesheet\" type=\"text/css\" href=\"https://jsxgraph.org/distrib/jsxgraph.css\" />\n    <script type=\"text/javascript\" src=\"https://cdn.jsdelivr.net/npm/jsxgraph/distrib/jsxgraphcore.js\"></script>\n    <script type=\"text/javascript\" src=\"https://cdn.jsdelivr.net/npm/mathjax@3/es5/tex-chtml.js\"></script>\n    </head>\n<body>\n<div id=\"box\" class=\"jxgbox\"></div>\n</body>\n</html>",
       "js": "JXG.Options.text.useMathJax = true;\nvar brd = JXG.JSXGraph.initBoard('box', {\n    boundingbox: [-8, 8, 8, -4],\n    axis: true,\n    showCopyright: false\n});\nvar a = brd.create('slider', [\n    [3, 3],\n    [6, 3],\n    [-3, 1, 3]\n], {\n    name: 'a',\n    snapWidth: 0.1\n});\nvar b = brd.create('slider', [\n    [3, 2],\n    [6, 2],\n    [-3, 0, 3]\n], {\n    name: 'b',\n    snapWidth: 0.1\n});\nvar c = brd.create('slider', [\n    [3, 1],\n    [6, 1],\n    [-3, 0, 3]\n], {\n    name: 'c',\n    snapWidth: 0.1\n});\nbrd.create('functiongraph', [function(x) {\n    return a.Value() * x * x + b.Value() * x + c.Value();\n}, -10, 10]);\nbrd.create('text',\n    [-2, 0,\n        function() {\n            return String.raw`\n              \\begin{align*} \n              y&=ax^2+bx+c\\\\ \n               &= ${a.Value().toFixed(2)}x^2 \n                + ${b.Value().toFixed(2)}x \n                + ${c.Value().toFixed(2)}\n              \\end{align*}`;\n        }\n    ], {\n        anchorX: 'right',\n        anchorY: 'bottom'\n    });",
       "layout": "IPY_MODEL_b020b68a1bf14fd1a7cc2365c64ac9e3"
      }
     },
     "18d1e5924e524b76879af9aed8a7a41f": {
      "model_module": "jupyter-divewidgets",
      "model_module_version": "^0.1.2",
      "model_name": "DIVEWidgetModel",
      "state": {
       "_model_module_version": "^0.1.2",
       "_view_module_version": "^0.1.2",
       "html": "<!DOCTYPE html>\n<html>\n<head>\n  <script src=\"https://cdn.jsdelivr.net/npm/mermaid/dist/mermaid.min.js\"></script>\n</head>\n<body>\n    <div class=\"mermaid\">\n    </div>\n    <script>mermaid.initialize({startOnLoad:false});\n    var render = (function () {\n      var element = document.querySelector('.mermaid');\n      var insertSvg = function(svgCode, bindFunctions) {\n        element.innerHTML = svgCode;\n      };\n      return (code) => {\n        mermaid.mermaidAPI.render('rendered-mermaid',code,insertSvg);\n      };    \n    })()\n    </script>\n</body>\n</html>",
       "js": "render(`\ngraph TD \nA[a] --> B[b] \nB --> C[c] \nB --> D[d]\n`);",
       "layout": "IPY_MODEL_d00e24f2a7d242b28c6288a3c5397836"
      }
     },
     "2233abc885934938a2c1bc29ec3d4465": {
      "model_module": "jupyter-divewidgets",
      "model_module_version": "^0.1.2",
      "model_name": "DIVEWidgetModel",
      "state": {
       "_model_module_version": "^0.1.2",
       "_view_module_version": "^0.1.2",
       "height": 0,
       "html": "<!DOCTYPE html>\n<html>\n    <head>\n    <style>\n    html {\n        height: 100%;\n    }\n    body {\n        height: 600px;\n        width: 600px;\n        display: flex;\n        padding: 0;\n        margin: 0;\n    }\n    .jxgbox {\n        width:100%; \n        flex-grow: 1;\n    }\n    </style>\n    <link rel=\"stylesheet\" type=\"text/css\" href=\"https://jsxgraph.org/distrib/jsxgraph.css\" />\n    <script type=\"text/javascript\" src=\"https://cdn.jsdelivr.net/npm/jsxgraph/distrib/jsxgraphcore.js\"></script>\n    <script type=\"text/javascript\" src=\"https://cdn.jsdelivr.net/npm/mathjax@3/es5/tex-chtml.js\"></script>\n    </head>\n<body>\n<div id=\"box\" class=\"jxgbox\"></div>\n</body>\n</html>",
       "js": "JXG.Options.text.useMathJax = true;\nvar brd = JXG.JSXGraph.initBoard('box', {\n    boundingbox: [-8, 8, 8, -4],\n    axis: true,\n    showCopyright: false\n});\nvar a = brd.create('slider', [\n    [3, 3],\n    [6, 3],\n    [-3, 1, 3]\n], {\n    name: 'a',\n    snapWidth: 0.1\n});\nvar b = brd.create('slider', [\n    [3, 2],\n    [6, 2],\n    [-3, 0, 3]\n], {\n    name: 'b',\n    snapWidth: 0.1\n});\nvar c = brd.create('slider', [\n    [3, 1],\n    [6, 1],\n    [-3, 0, 3]\n], {\n    name: 'c',\n    snapWidth: 0.1\n});\nbrd.create('functiongraph', [function(x) {\n    return a.Value() * x * x + b.Value() * x + c.Value();\n}, -10, 10]);\nbrd.create('text',\n    [-2, 0,\n        function() {\n            return String.raw`\n              \\begin{align*} \n              y&=ax^2+bx+c\\\\ \n               &= ${a.Value().toFixed(2)}x^2 \n                + ${b.Value().toFixed(2)}x \n                + ${c.Value().toFixed(2)}\n              \\end{align*}`;\n        }\n    ], {\n        anchorX: 'right',\n        anchorY: 'bottom'\n    });",
       "layout": "IPY_MODEL_4a031583d34e47a7be74a6b604d9e707",
       "width": 0
      }
     },
     "2542b973655343209c83f7238134c9e8": {
      "model_module": "jupyter-divewidgets",
      "model_module_version": "^0.1.2",
      "model_name": "DIVEWidgetModel",
      "state": {
       "_model_module_version": "^0.1.2",
       "_view_module_version": "^0.1.2",
       "html": "<!DOCTYPE html>\n<html>\n<head>\n  <script src=\"http://cdnjs.cloudflare.com/ajax/libs/raphael/2.3.0/raphael.min.js\"></script>\n  <script src=\"https://cdnjs.cloudflare.com/ajax/libs/flowchart/1.17.1/flowchart.min.js\"></script>\n</head>\n<body>\n    <div id=\"diagram\">\n    </div>\n    <script>\n    var render = (function () {\n      return (code) => {\n        document.getElementById('diagram').innerHTML = '';\n        flowchart.parse(code).drawSVG('diagram');\n      };    \n    })()\n    </script>\n</body>\n</html>",
       "js": "render(`\ncond3=>condition: if (not input(1))\ncond8=>condition: if input(2)\nsub12=>subroutine: input(3)\n\ncond3(yes)->cond8\ncond8(yes)->sub12\n`);",
       "layout": "IPY_MODEL_a1b9ce54a5aa40f5aef19f1e4b34aa7d"
      }
     },
     "4a031583d34e47a7be74a6b604d9e707": {
      "model_module": "@jupyter-widgets/base",
      "model_module_version": "1.2.0",
      "model_name": "LayoutModel",
      "state": {}
     },
     "5124e9318674447881e359d496c32603": {
      "model_module": "@jupyter-widgets/base",
      "model_module_version": "1.2.0",
      "model_name": "LayoutModel",
      "state": {}
     },
     "56beed49cf0c46fc9b2ffafc87232c48": {
      "model_module": "@jupyter-widgets/base",
      "model_module_version": "1.2.0",
      "model_name": "LayoutModel",
      "state": {}
     },
     "5c0d1631b3ff48578bf836860e51fd88": {
      "model_module": "jupyter-divewidgets",
      "model_module_version": "^0.1.2",
      "model_name": "DIVEWidgetModel",
      "state": {
       "_model_module_version": "^0.1.2",
       "_view_module_version": "^0.1.2",
       "height": 0,
       "html": "<!DOCTYPE html>\n<html>\n    <head>\n    <style>\n    html {\n        height: 100%;\n    }\n    body {\n        height: 300px\n        width: 600px\n        display: flex;\n        padding: 0;\n        margin: 0;\n    }\n    .jxgbox {\n        width:100%; \n        flex-grow: 1;\n    }\n    </style>\n    <link rel=\"stylesheet\" type=\"text/css\" href=\"https://jsxgraph.org/distrib/jsxgraph.css\" />\n    <script type=\"text/javascript\" src=\"https://cdn.jsdelivr.net/npm/jsxgraph/distrib/jsxgraphcore.js\"></script>\n    <script type=\"text/javascript\" src=\"https://www.cs.cityu.edu.hk/~ccha23/js/load-mathjax.js\"></script>\n    </head>\n<body>\n<div id=\"jxgbox\" class=\"jxgbox\"></div>\n</body>\n</html>",
       "js": "JXG.Options.text.useMathJax = true;\nconst brd = JXG.JSXGraph.initBoard('jxgbox', {\n    boundingbox: [-8, 8, 8, -4],\n    axis: true,\n    showCopyright: false\n});\nconst a = brd.create('slider', [\n    [3, 3],\n    [6, 3],\n    [-3, 1, 3]\n], {\n    name: 'a',\n    snapWidth: 0.1\n});\nconst b = brd.create('slider', [\n    [3, 2],\n    [6, 2],\n    [-3, 0, 3]\n], {\n    name: 'b',\n    snapWidth: 0.1\n});\nconst c = brd.create('slider', [\n    [3, 1],\n    [6, 1],\n    [-3, 0, 3]\n], {\n    name: 'c',\n    snapWidth: 0.1\n});\nbrd.create('functiongraph', [function(x) {\n    return a.Value() * x * x + b.Value() * x + c.Value();\n}, -10, 10]);\nbrd.create('text',\n    [-1, -1,\n        function() {\n            return String.raw`\n              \\begin{empheq}[left={\\text{Parabola} \\empheqlbrace}]{align}\n              y&=ax^2+bx+c\\tag{1}\\\\ \n               &= ${a.Value().toFixed(2)}x^2 \n                + ${b.Value().toFixed(2)}x \n                + ${c.Value().toFixed(2)} \\tag{2}\n              \\end{empheq}`;\n        }\n    ], {\n        anchorX: 'right',\n        anchorY: 'top'\n    });",
       "layout": "IPY_MODEL_5124e9318674447881e359d496c32603",
       "width": 0
      }
     },
     "7d2fd09a91f049b2b3449aec85d076f3": {
      "model_module": "@jupyter-widgets/base",
      "model_module_version": "1.2.0",
      "model_name": "LayoutModel",
      "state": {}
     },
     "a1b9ce54a5aa40f5aef19f1e4b34aa7d": {
      "model_module": "@jupyter-widgets/base",
      "model_module_version": "1.2.0",
      "model_name": "LayoutModel",
      "state": {}
     },
     "afc171a1004d45448a6a7c3de5c1ad17": {
      "model_module": "jupyter-divewidgets",
      "model_module_version": "^0.1.2",
      "model_name": "DIVEWidgetModel",
      "state": {
       "_model_module_version": "^0.1.2",
       "_view_module_version": "^0.1.2",
       "height": 300,
       "html": "<!DOCTYPE html>\n<html>\n    <head>\n    <style>\n    html, body {\n        height: 100%;\n    }\n    body {\n        width: 100%;\n        display: flex;\n        padding: 0;\n        margin: 0;\n    }\n    .jxgbox {\n        width:100%; \n        flex-grow: 1;\n    }\n    </style>\n    <link rel=\"stylesheet\" type=\"text/css\" href=\"https://jsxgraph.org/distrib/jsxgraph.css\" />\n    <script type=\"text/javascript\" src=\"https://cdn.jsdelivr.net/npm/jsxgraph/distrib/jsxgraphcore.js\"></script>\n    <script type=\"text/javascript\" src=\"https://www.cs.cityu.edu.hk/~ccha23/js/load-mathjax.js\"></script>\n    </head>\n<body>\n<div id=\"jxgbox\" class=\"jxgbox\"></div>\n</body>\n</html>",
       "js": "JXG.Options.text.useMathJax = true;\nconst brd = JXG.JSXGraph.initBoard('jxgbox', {\n    boundingbox: [-8, 8, 8, -4],\n    axis: true,\n    showCopyright: false\n});\nconst a = brd.create('slider', [\n    [3, 3],\n    [6, 3],\n    [-3, 1, 3]\n], {\n    name: 'a',\n    snapWidth: 0.1\n});\nconst b = brd.create('slider', [\n    [3, 2],\n    [6, 2],\n    [-3, 0, 3]\n], {\n    name: 'b',\n    snapWidth: 0.1\n});\nconst c = brd.create('slider', [\n    [3, 1],\n    [6, 1],\n    [-3, 0, 3]\n], {\n    name: 'c',\n    snapWidth: 0.1\n});\nbrd.create('functiongraph', [function(x) {\n    return a.Value() * x * x + b.Value() * x + c.Value();\n}, -10, 10]);\nbrd.create('text',\n    [-1, -1,\n        function() {\n            return String.raw`\n              \\begin{empheq}[left={\\text{Parabola} \\empheqlbrace}]{align}\n              y&=ax^2+bx+c\\tag{1}\\\\ \n               &= ${a.Value().toFixed(2)}x^2 \n                + ${b.Value().toFixed(2)}x \n                + ${c.Value().toFixed(2)} \\tag{2}\n              \\end{empheq}`;\n        }\n    ], {\n        anchorX: 'right',\n        anchorY: 'top'\n    });",
       "layout": "IPY_MODEL_c3c5e5ea121a4cb3998cb677645c1996"
      }
     },
     "b020b68a1bf14fd1a7cc2365c64ac9e3": {
      "model_module": "@jupyter-widgets/base",
      "model_module_version": "1.2.0",
      "model_name": "LayoutModel",
      "state": {}
     },
     "c3512515748744f89d4ccf5c53d4c1b1": {
      "model_module": "@jupyter-widgets/base",
      "model_module_version": "1.2.0",
      "model_name": "LayoutModel",
      "state": {}
     },
     "c3c5e5ea121a4cb3998cb677645c1996": {
      "model_module": "@jupyter-widgets/base",
      "model_module_version": "1.2.0",
      "model_name": "LayoutModel",
      "state": {}
     },
     "d00e24f2a7d242b28c6288a3c5397836": {
      "model_module": "@jupyter-widgets/base",
      "model_module_version": "1.2.0",
      "model_name": "LayoutModel",
      "state": {}
     },
     "e233a687efaa437c80165483a1d7867d": {
      "model_module": "jupyter-divewidgets",
      "model_module_version": "^0.1.2",
      "model_name": "DIVEWidgetModel",
      "state": {
       "_model_module_version": "^0.1.2",
       "_view_module_version": "^0.1.2",
       "height": 0,
       "html": "<!DOCTYPE html>\n<html>\n    <head>\n    <style>\n    html {\n        height: 100%;\n    }\n    body {\n        height: 600px\n        width: 600px\n        display: flex;\n        padding: 0;\n        margin: 0;\n    }\n    .jxgbox {\n        width:100%; \n        flex-grow: 1;\n    }\n    </style>\n    <link rel=\"stylesheet\" type=\"text/css\" href=\"https://jsxgraph.org/distrib/jsxgraph.css\" />\n    <script type=\"text/javascript\" src=\"https://cdn.jsdelivr.net/npm/jsxgraph/distrib/jsxgraphcore.js\"></script>\n    <script type=\"text/javascript\" src=\"https://cdn.jsdelivr.net/npm/mathjax@3/es5/tex-chtml.js\"></script>\n    </head>\n<body>\n<div id=\"box\" class=\"jxgbox\"></div>\n</body>\n</html>",
       "js": "JXG.Options.text.useMathJax = true;\nvar brd = JXG.JSXGraph.initBoard('box', {\n    boundingbox: [-8, 8, 8, -4],\n    axis: true,\n    showCopyright: false\n});\nvar a = brd.create('slider', [\n    [3, 3],\n    [6, 3],\n    [-3, 1, 3]\n], {\n    name: 'a',\n    snapWidth: 0.1\n});\nvar b = brd.create('slider', [\n    [3, 2],\n    [6, 2],\n    [-3, 0, 3]\n], {\n    name: 'b',\n    snapWidth: 0.1\n});\nvar c = brd.create('slider', [\n    [3, 1],\n    [6, 1],\n    [-3, 0, 3]\n], {\n    name: 'c',\n    snapWidth: 0.1\n});\nbrd.create('functiongraph', [function(x) {\n    return a.Value() * x * x + b.Value() * x + c.Value();\n}, -10, 10]);\nbrd.create('text',\n    [-2, 0,\n        function() {\n            return String.raw`\n              \\begin{align*} \n              y&=ax^2+bx+c\\\\ \n               &= ${a.Value().toFixed(2)}x^2 \n                + ${b.Value().toFixed(2)}x \n                + ${c.Value().toFixed(2)}\n              \\end{align*}`;\n        }\n    ], {\n        anchorX: 'right',\n        anchorY: 'bottom'\n    });",
       "layout": "IPY_MODEL_7d2fd09a91f049b2b3449aec85d076f3",
       "width": 0
      }
     },
     "e5556620da8444a7a61775b05658bad3": {
      "model_module": "jupyter-divewidgets",
      "model_module_version": "^0.1.2",
      "model_name": "DIVEWidgetModel",
      "state": {
       "_model_module_version": "^0.1.2",
       "_view_module_version": "^0.1.2",
       "html": "<!DOCTYPE html>\n<html>\n<head>\n  <script src=\"https://cdn.jsdelivr.net/npm/mermaid/dist/mermaid.min.js\"></script>\n</head>\n<body>\n    <div class=\"mermaid\">\n    </div>\n    <script>mermaid.initialize({startOnLoad:false});\n    var render = (function () {\n      var element = document.querySelector('.mermaid');\n      var insertSvg = function(svgCode, bindFunctions) {\n        element.innerHTML = svgCode;\n      };\n      return (code) => {\n        mermaid.mermaidAPI.render('rendered-mermaid',code,insertSvg);\n      };    \n    })()\n    </script>\n</body>\n</html>",
       "js": "render(`\ngraph TD \nA[a] --> B[b] \nB --> C[c] \nB --> D[d]\n`);",
       "layout": "IPY_MODEL_56beed49cf0c46fc9b2ffafc87232c48"
      }
     }
    },
    "version_major": 2,
    "version_minor": 0
   }
  }
 },
 "nbformat": 4,
 "nbformat_minor": 4
}
