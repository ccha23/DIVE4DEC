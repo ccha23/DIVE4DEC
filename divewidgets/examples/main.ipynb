{
 "cells": [
  {
   "cell_type": "markdown",
   "metadata": {},
   "source": [
    "## DIVE Widgets"
   ]
  },
  {
   "cell_type": "markdown",
   "metadata": {},
   "source": [
    "### JSXGraph"
   ]
  },
  {
   "cell_type": "markdown",
   "metadata": {},
   "source": [
    "[JSXGraph](https://jsxgraph.org/) can be rendered using the following magic:"
   ]
  },
  {
   "cell_type": "code",
   "execution_count": 1,
   "metadata": {},
   "outputs": [
    {
     "data": {
      "text/plain": [
       "\u001b[0;31mDocstring:\u001b[0m\n",
       "::\n",
       "\n",
       "  %jsxgraph [-w WIDTH] [-i ID] [-h HEIGHT] [-m MATHJAX_URL]\n",
       "\n",
       "optional arguments:\n",
       "  -w WIDTH, --width WIDTH\n",
       "                        The width of the output frame (default: 600).\n",
       "  -i ID, --id ID        id of a <div> element for embeding the board.\n",
       "  -h HEIGHT, --height HEIGHT\n",
       "                        The height of the output frame (default: 600).\n",
       "  -m MATHJAX_URL, --mathjax_url MATHJAX_URL\n",
       "                        Absolute/relative url of the javascript file in\n",
       "                        loading mathjax.\n",
       "\u001b[0;31mFile:\u001b[0m      ~/DIVE4DEC/divewidgets/divewidgets/magic.py\n"
      ]
     },
     "metadata": {},
     "output_type": "display_data"
    }
   ],
   "source": [
    "%reload_ext divewidgets\n",
    "%%jsxgraph?"
   ]
  },
  {
   "cell_type": "code",
   "execution_count": 2,
   "metadata": {},
   "outputs": [
    {
     "data": {
      "application/vnd.jupyter.widget-view+json": {
       "model_id": "419491928e0d48fab961bc38e969d244",
       "version_major": 2,
       "version_minor": 0
      },
      "text/plain": [
       "DIVEWidget(value=None, code=\"JXG.Options.text.useMathJax = true;\\nconst brd = JXG.JSXGraph.initBoard('box', {\\…"
      ]
     },
     "metadata": {},
     "output_type": "display_data"
    }
   ],
   "source": [
    "%%jsxgraph\n",
    "JXG.Options.text.useMathJax = true;\n",
    "const brd = JXG.JSXGraph.initBoard('box', {\n",
    "    boundingbox: [-8, 8, 8, -4],\n",
    "    axis: true,\n",
    "    showCopyright: false\n",
    "});\n",
    "const a = brd.create('slider', [\n",
    "    [3, 3],\n",
    "    [6, 3],\n",
    "    [-3, 1, 3]\n",
    "], {\n",
    "    name: 'a',\n",
    "    snapWidth: 0.1\n",
    "});\n",
    "const b = brd.create('slider', [\n",
    "    [3, 2],\n",
    "    [6, 2],\n",
    "    [-3, 0, 3]\n",
    "], {\n",
    "    name: 'b',\n",
    "    snapWidth: 0.1\n",
    "});\n",
    "const c = brd.create('slider', [\n",
    "    [3, 1],\n",
    "    [6, 1],\n",
    "    [-3, 0, 3]\n",
    "], {\n",
    "    name: 'c',\n",
    "    snapWidth: 0.1\n",
    "});\n",
    "brd.create('functiongraph', [function(x) {\n",
    "    return a.Value() * x * x + b.Value() * x + c.Value();\n",
    "}, -10, 10]);\n",
    "brd.create('text',\n",
    "    [-2, 0,\n",
    "        function() {\n",
    "            return String.raw`\n",
    "              \\begin{align*} \n",
    "              y&=ax^2+bx+c\\\\ \n",
    "               &= ${a.Value().toFixed(2)}x^2 \n",
    "                + ${b.Value().toFixed(2)}x \n",
    "                + ${c.Value().toFixed(2)}\n",
    "              \\end{align*}`;\n",
    "        }\n",
    "    ], {\n",
    "        anchorX: 'right',\n",
    "        anchorY: 'bottom'\n",
    "    });"
   ]
  },
  {
   "cell_type": "markdown",
   "metadata": {},
   "source": [
    "The rendering can be customized with additional arguments:"
   ]
  },
  {
   "cell_type": "code",
   "execution_count": 3,
   "metadata": {},
   "outputs": [
    {
     "data": {
      "application/vnd.jupyter.widget-view+json": {
       "model_id": "e2d2cd00258f4fd5a7474f6712548637",
       "version_major": 2,
       "version_minor": 0
      },
      "text/plain": [
       "DIVEWidget(value=None, code=\"JXG.Options.text.useMathJax = true;\\nconst brd = JXG.JSXGraph.initBoard('jxgbox',…"
      ]
     },
     "metadata": {},
     "output_type": "display_data"
    }
   ],
   "source": [
    "%%jsxgraph -i jxgbox -h 300 -m https://www.cs.cityu.edu.hk/~ccha23/js/load-mathjax.js\n",
    "JXG.Options.text.useMathJax = true;\n",
    "const brd = JXG.JSXGraph.initBoard('jxgbox', {\n",
    "    boundingbox: [-8, 8, 8, -4],\n",
    "    axis: true,\n",
    "    showCopyright: false\n",
    "});\n",
    "const a = brd.create('slider', [\n",
    "    [3, 3],\n",
    "    [6, 3],\n",
    "    [-3, 1, 3]\n",
    "], {\n",
    "    name: 'a',\n",
    "    snapWidth: 0.1\n",
    "});\n",
    "const b = brd.create('slider', [\n",
    "    [3, 2],\n",
    "    [6, 2],\n",
    "    [-3, 0, 3]\n",
    "], {\n",
    "    name: 'b',\n",
    "    snapWidth: 0.1\n",
    "});\n",
    "const c = brd.create('slider', [\n",
    "    [3, 1],\n",
    "    [6, 1],\n",
    "    [-3, 0, 3]\n",
    "], {\n",
    "    name: 'c',\n",
    "    snapWidth: 0.1\n",
    "});\n",
    "brd.create('functiongraph', [function(x) {\n",
    "    return a.Value() * x * x + b.Value() * x + c.Value();\n",
    "}, -10, 10]);\n",
    "brd.create('text',\n",
    "    [-1, -1,\n",
    "        function() {\n",
    "            return String.raw`\n",
    "              \\begin{empheq}[left={\\text{Parabola} \\empheqlbrace}]{align}\n",
    "              y&=ax^2+bx+c\\tag{1}\\\\ \n",
    "               &= ${a.Value().toFixed(2)}x^2 \n",
    "                + ${b.Value().toFixed(2)}x \n",
    "                + ${c.Value().toFixed(2)} \\tag{2}\n",
    "              \\end{empheq}`;\n",
    "        }\n",
    "    ], {\n",
    "        anchorX: 'right',\n",
    "        anchorY: 'top'\n",
    "    });"
   ]
  },
  {
   "cell_type": "markdown",
   "metadata": {},
   "source": [
    "The above typesets the label use [a custom configuration of mathjax3](https://www.cs.cityu.edu.hk/~ccha23/js/load-mathjax.js)."
   ]
  }
 ],
 "metadata": {
  "kernelspec": {
   "display_name": "Python 3 (ipykernel)",
   "language": "python",
   "name": "python3"
  },
  "language_info": {
   "codemirror_mode": {
    "name": "ipython",
    "version": 3
   },
   "file_extension": ".py",
   "mimetype": "text/x-python",
   "name": "python",
   "nbconvert_exporter": "python",
   "pygments_lexer": "ipython3",
   "version": "3.9.0"
  }
 },
 "nbformat": 4,
 "nbformat_minor": 4
}
