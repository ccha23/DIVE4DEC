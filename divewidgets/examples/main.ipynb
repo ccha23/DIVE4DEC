{
 "cells": [
  {
   "cell_type": "markdown",
   "metadata": {},
   "source": [
    "## DIVE Widgets"
   ]
  },
  {
   "cell_type": "markdown",
   "metadata": {},
   "source": [
    "### JSXGraph"
   ]
  },
  {
   "cell_type": "markdown",
   "metadata": {},
   "source": [
    "[JSXGraph](https://jsxgraph.org/) can be rendered using the following magic:"
   ]
  },
  {
   "cell_type": "code",
   "execution_count": 17,
   "metadata": {},
   "outputs": [
    {
     "data": {
      "text/plain": [
       "\u001b[0;31mDocstring:\u001b[0m\n",
       "::\n",
       "\n",
       "  %jsxgraph [-w WIDTH] [-i ID] [-h HEIGHT] [-m MATHJAX_URL]\n",
       "\n",
       "optional arguments:\n",
       "  -w WIDTH, --width WIDTH\n",
       "                        The width of the output frame (default: 600).\n",
       "  -i ID, --id ID        id of a <div> element for embeding the board.\n",
       "  -h HEIGHT, --height HEIGHT\n",
       "                        The height of the output frame (default: 600).\n",
       "  -m MATHJAX_URL, --mathjax_url MATHJAX_URL\n",
       "                        Absolute/relative url of the javascript file in\n",
       "                        loading mathjax.\n",
       "\u001b[0;31mFile:\u001b[0m      ~/DIVE4DEC/divewidgets/divewidgets/magic.py\n"
      ]
     },
     "metadata": {},
     "output_type": "display_data"
    }
   ],
   "source": [
    "%reload_ext divewidgets\n",
    "%%jsxgraph?"
   ]
  },
  {
   "cell_type": "code",
   "execution_count": 18,
   "metadata": {
    "tags": []
   },
   "outputs": [
    {
     "data": {
      "application/vnd.jupyter.widget-view+json": {
       "model_id": "b1ec1c3bb2084acdb5a049e2ce28451a",
       "version_major": 2,
       "version_minor": 0
      },
      "text/plain": [
       "DIVEWidget(value=None, html='<!DOCTYPE html>\\n<html>\\n    <head>\\n    <style>\\n    html, body {\\n        heigh…"
      ]
     },
     "metadata": {},
     "output_type": "display_data"
    }
   ],
   "source": [
    "%%jsxgraph\n",
    "JXG.Options.text.useMathJax = true;\n",
    "var brd = JXG.JSXGraph.initBoard('box', {\n",
    "    boundingbox: [-8, 8, 8, -4],\n",
    "    axis: true,\n",
    "    showCopyright: false\n",
    "});\n",
    "var a = brd.create('slider', [\n",
    "    [3, 3],\n",
    "    [6, 3],\n",
    "    [-3, 1, 3]\n",
    "], {\n",
    "    name: 'a',\n",
    "    snapWidth: 0.1\n",
    "});\n",
    "var b = brd.create('slider', [\n",
    "    [3, 2],\n",
    "    [6, 2],\n",
    "    [-3, 0, 3]\n",
    "], {\n",
    "    name: 'b',\n",
    "    snapWidth: 0.1\n",
    "});\n",
    "var c = brd.create('slider', [\n",
    "    [3, 1],\n",
    "    [6, 1],\n",
    "    [-3, 0, 3]\n",
    "], {\n",
    "    name: 'c',\n",
    "    snapWidth: 0.1\n",
    "});\n",
    "brd.create('functiongraph', [function(x) {\n",
    "    return a.Value() * x * x + b.Value() * x + c.Value();\n",
    "}, -10, 10]);\n",
    "brd.create('text',\n",
    "    [-2, 0,\n",
    "        function() {\n",
    "            return String.raw`\n",
    "              \\begin{align*} \n",
    "              y&=ax^2+bx+c\\\\ \n",
    "               &= ${a.Value().toFixed(2)}x^2 \n",
    "                + ${b.Value().toFixed(2)}x \n",
    "                + ${c.Value().toFixed(2)}\n",
    "              \\end{align*}`;\n",
    "        }\n",
    "    ], {\n",
    "        anchorX: 'right',\n",
    "        anchorY: 'bottom'\n",
    "    });"
   ]
  },
  {
   "cell_type": "markdown",
   "metadata": {},
   "source": [
    "The rendering can be customized with additional arguments:"
   ]
  },
  {
   "cell_type": "code",
   "execution_count": 20,
   "metadata": {},
   "outputs": [
    {
     "data": {
      "application/vnd.jupyter.widget-view+json": {
       "model_id": "57e3e5d489c64885b9b2dbe072e6f611",
       "version_major": 2,
       "version_minor": 0
      },
      "text/plain": [
       "DIVEWidget(value=None, height=300, html='<!DOCTYPE html>\\n<html>\\n    <head>\\n    <style>\\n    html, body {\\n …"
      ]
     },
     "metadata": {},
     "output_type": "display_data"
    }
   ],
   "source": [
    "%%jsxgraph -i jxgbox -h 300 -m https://www.cs.cityu.edu.hk/~ccha23/js/load-mathjax.js\n",
    "JXG.Options.text.useMathJax = true;\n",
    "const brd = JXG.JSXGraph.initBoard('jxgbox', {\n",
    "    boundingbox: [-8, 8, 8, -4],\n",
    "    axis: true,\n",
    "    showCopyright: false\n",
    "});\n",
    "const a = brd.create('slider', [\n",
    "    [3, 3],\n",
    "    [6, 3],\n",
    "    [-3, 1, 3]\n",
    "], {\n",
    "    name: 'a',\n",
    "    snapWidth: 0.1\n",
    "});\n",
    "const b = brd.create('slider', [\n",
    "    [3, 2],\n",
    "    [6, 2],\n",
    "    [-3, 0, 3]\n",
    "], {\n",
    "    name: 'b',\n",
    "    snapWidth: 0.1\n",
    "});\n",
    "const c = brd.create('slider', [\n",
    "    [3, 1],\n",
    "    [6, 1],\n",
    "    [-3, 0, 3]\n",
    "], {\n",
    "    name: 'c',\n",
    "    snapWidth: 0.1\n",
    "});\n",
    "brd.create('functiongraph', [function(x) {\n",
    "    return a.Value() * x * x + b.Value() * x + c.Value();\n",
    "}, -10, 10]);\n",
    "brd.create('text',\n",
    "    [-1, -1,\n",
    "        function() {\n",
    "            return String.raw`\n",
    "              \\begin{empheq}[left={\\text{Parabola} \\empheqlbrace}]{align}\n",
    "              y&=ax^2+bx+c\\tag{1}\\\\ \n",
    "               &= ${a.Value().toFixed(2)}x^2 \n",
    "                + ${b.Value().toFixed(2)}x \n",
    "                + ${c.Value().toFixed(2)} \\tag{2}\n",
    "              \\end{empheq}`;\n",
    "        }\n",
    "    ], {\n",
    "        anchorX: 'right',\n",
    "        anchorY: 'top'\n",
    "    });"
   ]
  },
  {
   "cell_type": "markdown",
   "metadata": {},
   "source": [
    "The above typesets the label use [a custom configuration of mathjax3](https://www.cs.cityu.edu.hk/~ccha23/js/load-mathjax.js)."
   ]
  },
  {
   "cell_type": "markdown",
   "metadata": {},
   "source": [
    "Try the following:\n",
    "- Click `show code` to show the javascript and html code used to generate the JSXGraph. \n",
    "- Modify the javascript code under the `JS` panel or the html code uner the `HTML` panel. \n",
    "- Click `run code` or `Ctrl-R` while the cursor remains in the editor. You can see the JSXGraph refreshed according to your change.\n",
    "- Execute the following to save the result into `dw`."
   ]
  },
  {
   "cell_type": "code",
   "execution_count": 24,
   "metadata": {},
   "outputs": [],
   "source": [
    "dw = _"
   ]
  },
  {
   "cell_type": "markdown",
   "metadata": {},
   "source": [
    "The JSXGraph is implemented as a `ipywidget` called `DIVEWidget`, so the code can be stored as model attributes."
   ]
  },
  {
   "cell_type": "code",
   "execution_count": 34,
   "metadata": {},
   "outputs": [
    {
     "data": {
      "text/plain": [
       "\u001b[0;31mType:\u001b[0m           DIVEWidget\n",
       "\u001b[0;31mString form:\u001b[0m    DIVEWidget(value=None, height=300, html='<!DOCTYPE html>\\n<html>\\n    <head>\\n    <style>\\n    ht <...> \\end{empheq}`;\\n        }\\n    ], {\\n        anchorX: 'right',\\n        anchorY: 'top'\\n    });\")\n",
       "\u001b[0;31mFile:\u001b[0m           ~/DIVE4DEC/divewidgets/divewidgets/widget.py\n",
       "\u001b[0;31mDocstring:\u001b[0m     \n",
       "DIVEWidget Widget\n",
       "    \n",
       "\u001b[0;31mInit docstring:\u001b[0m Public constructor\n"
      ]
     },
     "metadata": {},
     "output_type": "display_data"
    }
   ],
   "source": [
    "dw?"
   ]
  },
  {
   "cell_type": "markdown",
   "metadata": {},
   "source": [
    "To have your modifications persist after the notebook closes, you can save the notebook after choosing `Save Widget State Automatically` under `Settings`. Alternatively, copy the `javascript` and `html` attributes from the `DIVEWidget`."
   ]
  },
  {
   "cell_type": "code",
   "execution_count": 35,
   "metadata": {},
   "outputs": [
    {
     "name": "stdout",
     "output_type": "stream",
     "text": [
      "JXG.Options.text.useMathJax = true;\n",
      "const brd = JXG.JSXGraph.initBoard('jxgbox', {\n",
      "    boundingbox: [-8, 8, 8, -4],\n",
      "    axis: true,\n",
      "    showCopyright: false\n",
      "});\n",
      "const a = brd.create('slider', [\n",
      "    [3, 3],\n",
      "    [6, 3],\n",
      "    [-3, 1, 3]\n",
      "], {\n",
      "    name: 'a',\n",
      "    snapWidth: 0.1\n",
      "});\n",
      "const b = brd.create('slider', [\n",
      "    [3, 2],\n",
      "    [6, 2],\n",
      "    [-3, 0, 3]\n",
      "], {\n",
      "    name: 'b',\n",
      "    snapWidth: 0.1\n",
      "});\n",
      "const c = brd.create('slider', [\n",
      "    [3, 1],\n",
      "    [6, 1],\n",
      "    [-3, 0, 3]\n",
      "], {\n",
      "    name: 'c',\n",
      "    snapWidth: 0.1\n",
      "});\n",
      "brd.create('functiongraph', [function(x) {\n",
      "    return a.Value() * x * x + b.Value() * x + c.Value();\n",
      "}, -10, 10]);\n",
      "brd.create('text',\n",
      "    [-1, -1,\n",
      "        function() {\n",
      "            return String.raw`\n",
      "              \\begin{empheq}[left={\\text{Parabola} \\empheqlbrace}]{align}\n",
      "              y&=ax^2+bx+c\\tag{1}\\\\ \n",
      "               &= ${a.Value().toFixed(2)}x^2 \n",
      "                + ${b.Value().toFixed(2)}x \n",
      "                + ${c.Value().toFixed(2)} \\tag{2}\n",
      "              \\end{empheq}`;\n",
      "        }\n",
      "    ], {\n",
      "        anchorX: 'right',\n",
      "        anchorY: 'top'\n",
      "    });\n"
     ]
    }
   ],
   "source": [
    "print(dw.js)"
   ]
  },
  {
   "cell_type": "code",
   "execution_count": 33,
   "metadata": {},
   "outputs": [
    {
     "name": "stdout",
     "output_type": "stream",
     "text": [
      "<!DOCTYPE html>\n",
      "<html>\n",
      "    <head>\n",
      "    <style>\n",
      "    html, body {\n",
      "        height: 100%;\n",
      "    }\n",
      "    body {\n",
      "        display: flex;\n",
      "        padding: 0;\n",
      "        margin: 0;\n",
      "    }\n",
      "    .jxgbox {\n",
      "        width:100%; \n",
      "        flex-grow: 1;\n",
      "    }\n",
      "    </style>\n",
      "    <link rel=\"stylesheet\" type=\"text/css\" href=\"https://jsxgraph.org/distrib/jsxgraph.css\" />\n",
      "    <script type=\"text/javascript\" src=\"https://cdn.jsdelivr.net/npm/jsxgraph/distrib/jsxgraphcore.js\"></script>\n",
      "    <script type=\"text/javascript\" src=\"https://www.cs.cityu.edu.hk/~ccha23/js/load-mathjax.js\"></script>\n",
      "    </head>\n",
      "<body>\n",
      "<div id=\"jxgbox\" class=\"jxgbox\"></div>\n",
      "</body>\n",
      "</html>\n"
     ]
    }
   ],
   "source": [
    "print(dw.html)"
   ]
  }
 ],
 "metadata": {
  "kernelspec": {
   "display_name": "Python 3 (ipykernel)",
   "language": "python",
   "name": "python3"
  },
  "language_info": {
   "codemirror_mode": {
    "name": "ipython",
    "version": 3
   },
   "file_extension": ".py",
   "mimetype": "text/x-python",
   "name": "python",
   "nbconvert_exporter": "python",
   "pygments_lexer": "ipython3",
   "version": "3.9.0"
  },
  "widgets": {
   "application/vnd.jupyter.widget-state+json": {
    "state": {
     "01bf2e0dbbad4858b52d68ee50de4095": {
      "model_module": "jupyter-divewidgets",
      "model_module_version": "^0.1.2",
      "model_name": "DIVEWidgetModel",
      "state": {
       "_model_module_version": "^0.1.2",
       "_view_module_version": "^0.1.2",
       "html": "<!DOCTYPE html>\n<html>\n    <head>\n    <style>\n    html, body {\n        height: 100%;\n    }\n    body {\n        display: flex;\n        padding: 0;\n        margin: 0;\n    }\n    .jxgbox {\n        width:100%; \n        flex-grow: 1;\n    }\n    </style>\n    <link rel=\"stylesheet\" type=\"text/css\" href=\"https://jsxgraph.org/distrib/jsxgraph.css\" />\n    <script type=\"text/javascript\" src=\"https://cdn.jsdelivr.net/npm/jsxgraph/distrib/jsxgraphcore.js\"></script>\n    <script type=\"text/javascript\" src=\"https://cdn.jsdelivr.net/npm/mathjax@3/es5/tex-chtml.js\"></script>\n    </head>\n<body>\n<div id=\"box\" class=\"jxgbox\"></div>\n</body>\n</html>",
       "js": "JXG.Options.text.useMathJax = true;\nvar brd = JXG.JSXGraph.initBoard('box', {\n    boundingbox: [-8, 8, 8, -4],\n    axis: true,\n    showCopyright: false\n});\nvar a = brd.create('slider', [\n    [3, 3],\n    [6, 3],\n    [-3, 1, 3]\n], {\n    name: 'a',\n    snapWidth: 0.1\n});\nvar b = brd.create('slider', [\n    [3, 2],\n    [6, 2],\n    [-3, 0, 3]\n], {\n    name: 'b',\n    snapWidth: 0.1\n});\nvar c = brd.create('slider', [\n    [3, 1],\n    [6, 1],\n    [-3, 0, 3]\n], {\n    name: 'c',\n    snapWidth: 0.1\n});\nbrd.create('functiongraph', [function(x) {\n    return a.Value() * x * x + b.Value() * x + c.Value();\n}, -10, 10]);\nbrd.create('text',\n    [-2, 0,\n        function() {\n            return String.raw`\n              \\begin{align*} \n              y&=ax^2+bx+c\\\\ \n               &= ${a.Value().toFixed(2)}x^2 \n                + ${b.Value().toFixed(2)}x \n                + ${c.Value().toFixed(2)}\n              \\end{align*}`;\n        }\n    ], {\n        anchorX: 'right',\n        anchorY: 'bottom'\n    });",
       "layout": "IPY_MODEL_4d31d62ccbfb485f812685b2d589917d"
      }
     },
     "0a6c73f79e0247e996c26037ae07d71f": {
      "model_module": "@jupyter-widgets/base",
      "model_module_version": "1.2.0",
      "model_name": "LayoutModel",
      "state": {}
     },
     "179f5f68e07e4d7e82b99e10334cc02b": {
      "model_module": "@jupyter-widgets/base",
      "model_module_version": "1.2.0",
      "model_name": "LayoutModel",
      "state": {}
     },
     "1a114ce9fe70497ea27798b6a2c5e0ca": {
      "model_module": "@jupyter-widgets/base",
      "model_module_version": "1.2.0",
      "model_name": "LayoutModel",
      "state": {}
     },
     "38588a01b51049fca3271431363620b7": {
      "model_module": "jupyter-divewidgets",
      "model_module_version": "^0.1.2",
      "model_name": "DIVEWidgetModel",
      "state": {
       "_model_module_version": "^0.1.2",
       "_view_module_version": "^0.1.2",
       "html": "<!DOCTYPE html>\n<html>\n    <head>\n    <style>\n    html, body {\n        height: 100%;\n    }\n    body {\n        display: flex;\n        padding: 0;\n        margin: 0;\n    }\n    .jxgbox {\n        width:100%; \n        flex-grow: 1;\n    }\n    </style>\n    <link rel=\"stylesheet\" type=\"text/css\" href=\"https://jsxgraph.org/distrib/jsxgraph.css\" />\n    <script type=\"text/javascript\" src=\"https://cdn.jsdelivr.net/npm/jsxgraph/distrib/jsxgraphcore.js\"></script>\n    <script type=\"text/javascript\" src=\"https://cdn.jsdelivr.net/npm/mathjax@3/es5/tex-chtml.js\"></script>\n    </head>\n<body>\n<div id=\"box\" class=\"jxgbox\"></div>\n</body>\n</html>",
       "js": "JXG.Options.text.useMathJax = true;\nvar brd = JXG.JSXGraph.initBoard('box', {\n    boundingbox: [-8, 8, 8, -4],\n    axis: true,\n    showCopyright: false\n});\nvar a = brd.create('slider', [\n    [3, 3],\n    [6, 3],\n    [-3, 1, 3]\n], {\n    name: 'a',\n    snapWidth: 0.1\n});\nvar b = brd.create('slider', [\n    [3, 2],\n    [6, 2],\n    [-3, 0, 3]\n], {\n    name: 'b',\n    snapWidth: 0.1\n});\nvar c = brd.create('slider', [\n    [3, 1],\n    [6, 1],\n    [-3, 0, 3]\n], {\n    name: 'c',\n    snapWidth: 0.1\n});\nbrd.create('functiongraph', [function(x) {\n    return a.Value() * x * x + b.Value() * x + c.Value();\n}, -10, 10]);\nbrd.create('text',\n    [-2, 0,\n        function() {\n            return String.raw`\n              \\begin{align*} \n              y&=ax^2+bx+c\\\\ \n               &= ${a.Value().toFixed(2)}x^2 \n                + ${b.Value().toFixed(2)}x \n                + ${c.Value().toFixed(2)}\n              \\end{align*}`;\n        }\n    ], {\n        anchorX: 'right',\n        anchorY: 'bottom'\n    });",
       "layout": "IPY_MODEL_d6fa287929b84d93b28d9ac7936fe663"
      }
     },
     "467ff444e7954f019717d02087dd9d13": {
      "model_module": "jupyter-divewidgets",
      "model_module_version": "^0.1.2",
      "model_name": "DIVEWidgetModel",
      "state": {
       "_model_module_version": "^0.1.2",
       "_view_module_version": "^0.1.2",
       "html": "<!DOCTYPE html>\n<html>\n    <head>\n    <style>\n    html, body {\n        height: 100%;\n    }\n    body {\n        display: flex;\n        padding: 0;\n        margin: 0;\n    }\n    .jxgbox {\n        width:100%; \n        flex-grow: 1;\n    }\n    </style>\n    <link rel=\"stylesheet\" type=\"text/css\" href=\"https://jsxgraph.org/distrib/jsxgraph.css\" />\n    <script type=\"text/javascript\" src=\"https://cdn.jsdelivr.net/npm/jsxgraph/distrib/jsxgraphcore.js\"></script>\n    <script type=\"text/javascript\" src=\"https://cdn.jsdelivr.net/npm/mathjax@3/es5/tex-chtml.js\"></script>\n    </head>\n<body>\n<div id=\"box\" class=\"jxgbox\"></div>\n</body>\n</html>",
       "js": "JXG.Options.text.useMathJax = true;\nvar brd = JXG.JSXGraph.initBoard('box', {\n    boundingbox: [-8, 8, 8, -4],\n    axis: true,\n    showCopyright: false\n});\nvar a = brd.create('slider', [\n    [3, 3],\n    [6, 3],\n    [-3, 1, 3]\n], {\n    name: 'a',\n    snapWidth: 0.1\n});\nvar b = brd.create('slider', [\n    [3, 2],\n    [6, 2],\n    [-3, 0, 3]\n], {\n    name: 'b',\n    snapWidth: 0.1\n});\nvar c = brd.create('slider', [\n    [3, 1],\n    [6, 1],\n    [-3, 0, 3]\n], {\n    name: 'c',\n    snapWidth: 0.1\n});\nbrd.create('functiongraph', [function(x) {\n    return a.Value() * x * x + b.Value() * x + c.Value();\n}, -10, 10]);\nbrd.create('text',\n    [-2, 0,\n        function() {\n            return String.raw`\n              \\begin{align*} \n              y&=ax^2+bx+c\\\\ \n               &= ${a.Value().toFixed(2)}x^2 \n                + ${b.Value().toFixed(2)}x \n                + ${c.Value().toFixed(2)}\n              \\end{align*}`;\n        }\n    ], {\n        anchorX: 'right',\n        anchorY: 'bottom'\n    });",
       "layout": "IPY_MODEL_d7d52f4a128742af83f35df0137c0a05"
      }
     },
     "46b0f1aecd8848ec962f09bf19ac1435": {
      "model_module": "@jupyter-widgets/base",
      "model_module_version": "1.2.0",
      "model_name": "LayoutModel",
      "state": {}
     },
     "4bacd48be5744b0480d8f496128612f9": {
      "model_module": "jupyter-divewidgets",
      "model_module_version": "^0.1.2",
      "model_name": "DIVEWidgetModel",
      "state": {
       "_model_module_version": "^0.1.2",
       "_view_module_version": "^0.1.2",
       "html": "<!DOCTYPE html>\n<html>\n    <head>\n    <style>\n    html, body {\n        height: 100%;\n    }\n    body {\n        display: flex;\n        padding: 0;\n        margin: 0;\n    }\n    .jxgbox {\n        width:100%; \n        flex-grow: 1;\n    }\n    </style>\n    <link rel=\"stylesheet\" type=\"text/css\" href=\"https://jsxgraph.org/distrib/jsxgraph.css\" />\n    <script type=\"text/javascript\" src=\"https://cdn.jsdelivr.net/npm/jsxgraph/distrib/jsxgraphcore.js\"></script>\n    <script type=\"text/javascript\" src=\"https://cdn.jsdelivr.net/npm/mathjax@3/es5/tex-chtml.js\"></script>\n    </head>\n<body>\n<div id=\"box\" class=\"jxgbox\"></div>\n</body>\n</html>",
       "js": "JXG.Options.text.useMathJax = true;\nvar brd = JXG.JSXGraph.initBoard('box', {\n    boundingbox: [-8, 8, 8, -4],\n    axis: true,\n    showCopyright: false\n});\nvar a = brd.create('slider', [\n    [3, 3],\n    [6, 3],\n    [-3, 1, 3]\n], {\n    name: 'a',\n    snapWidth: 0.1\n});\nvar b = brd.create('slider', [\n    [3, 2],\n    [6, 2],\n    [-3, 0, 3]\n], {\n    name: 'b',\n    snapWidth: 0.1\n});\nvar c = brd.create('slider', [\n    [3, 1],\n    [6, 1],\n    [-3, 0, 3]\n], {\n    name: 'c',\n    snapWidth: 0.1\n});\nbrd.create('functiongraph', [function(x) {\n    return a.Value() * x * x + b.Value() * x + c.Value();\n}, -10, 10]);\nbrd.create('text',\n    [-2, 0,\n        function() {\n            return String.raw`\n              \\begin{align*} \n              y&=ax^2+bx+c\\\\ \n               &= ${a.Value().toFixed(2)}x^2 \n                + ${b.Value().toFixed(2)}x \n                + ${c.Value().toFixed(2)}\n              \\end{align*}`;\n        }\n    ], {\n        anchorX: 'right',\n        anchorY: 'bottom'\n    });",
       "layout": "IPY_MODEL_0a6c73f79e0247e996c26037ae07d71f"
      }
     },
     "4c514d6d09604af0a08daf70680e5cab": {
      "model_module": "jupyter-divewidgets",
      "model_module_version": "^0.1.2",
      "model_name": "DIVEWidgetModel",
      "state": {
       "_model_module_version": "^0.1.2",
       "_view_module_version": "^0.1.2",
       "html": "<!DOCTYPE html>\n<html>\n    <head>\n    <style>\n    html, body {\n        height: 100%;\n    }\n    body {\n        display: flex;\n        padding: 0;\n        margin: 0;\n    }\n    .jxgbox {\n        width:100%; \n        flex-grow: 1;\n    }\n    </style>\n    <link rel=\"stylesheet\" type=\"text/css\" href=\"https://jsxgraph.org/distrib/jsxgraph.css\" />\n    <script type=\"text/javascript\" src=\"https://cdn.jsdelivr.net/npm/jsxgraph/distrib/jsxgraphcore.js\"></script>\n    <script type=\"text/javascript\" src=\"https://cdn.jsdelivr.net/npm/mathjax@3/es5/tex-chtml.js\"></script>\n    </head>\n<body>\n<div id=\"box\" class=\"jxgbox\"></div>\n</body>\n</html>",
       "js": "JXG.Options.text.useMathJax = true;\nvar brd = JXG.JSXGraph.initBoard('box', {\n    boundingbox: [-8, 8, 8, -4],\n    axis: true,\n    showCopyright: false\n});\nvar a = brd.create('slider', [\n    [3, 3],\n    [6, 3],\n    [-3, 1, 3]\n], {\n    name: 'a',\n    snapWidth: 0.1\n});\nvar b = brd.create('slider', [\n    [3, 2],\n    [6, 2],\n    [-3, 0, 3]\n], {\n    name: 'b',\n    snapWidth: 0.1\n});\nvar c = brd.create('slider', [\n    [3, 1],\n    [6, 1],\n    [-3, 0, 3]\n], {\n    name: 'c',\n    snapWidth: 0.1\n});\nbrd.create('functiongraph', [function(x) {\n    return a.Value() * x * x + b.Value() * x + c.Value();\n}, -10, 10]);\nbrd.create('text',\n    [-2, 0,\n        function() {\n            return String.raw`\n              \\begin{align*} \n              y&=ax^2+bx+c\\\\ \n               &= ${a.Value().toFixed(2)}x^2 \n                + ${b.Value().toFixed(2)}x \n                + ${c.Value().toFixed(2)}\n              \\end{align*}`;\n        }\n    ], {\n        anchorX: 'right',\n        anchorY: 'bottom'\n    });",
       "layout": "IPY_MODEL_b4382b88c55340719f0b0d182a10b6d4"
      }
     },
     "4d31d62ccbfb485f812685b2d589917d": {
      "model_module": "@jupyter-widgets/base",
      "model_module_version": "1.2.0",
      "model_name": "LayoutModel",
      "state": {}
     },
     "519125d9c2114617a60164fcb333308d": {
      "model_module": "jupyter-divewidgets",
      "model_module_version": "^0.1.2",
      "model_name": "DIVEWidgetModel",
      "state": {
       "_model_module_version": "^0.1.2",
       "_view_module_version": "^0.1.2",
       "html": "<!DOCTYPE html>\n<html>\n    <head>\n    <style>\n    html, body {\n        height: 100%;\n    }\n    body {\n        display: flex;\n        padding: 0;\n        margin: 0;\n    }\n    .jxgbox {\n        width:100%; \n        flex-grow: 1;\n    }\n    </style>\n    <link rel=\"stylesheet\" type=\"text/css\" href=\"https://jsxgraph.org/distrib/jsxgraph.css\" />\n    <script type=\"text/javascript\" src=\"https://cdn.jsdelivr.net/npm/jsxgraph/distrib/jsxgraphcore.js\"></script>\n    <script type=\"text/javascript\" src=\"https://cdn.jsdelivr.net/npm/mathjax@3/es5/tex-chtml.js\"></script>\n    </head>\n<body>\n<div id=\"box\" class=\"jxgbox\"></div>\n</body>\n</html>",
       "js": "JXG.Options.text.useMathJax = true;\nvar brd = JXG.JSXGraph.initBoard('box', {\n    boundingbox: [-8, 8, 8, -4],\n    axis: true,\n    showCopyright: false\n});\nvar a = brd.create('slider', [\n    [3, 3],\n    [6, 3],\n    [-3, 1, 3]\n], {\n    name: 'a',\n    snapWidth: 0.1\n});\nvar b = brd.create('slider', [\n    [3, 2],\n    [6, 2],\n    [-3, 0, 3]\n], {\n    name: 'b',\n    snapWidth: 0.1\n});\nvar c = brd.create('slider', [\n    [3, 1],\n    [6, 1],\n    [-3, 0, 3]\n], {\n    name: 'c',\n    snapWidth: 0.1\n});\nbrd.create('functiongraph', [function(x) {\n    return a.Value() * x * x + b.Value() * x + c.Value();\n}, -10, 10]);\nbrd.create('text',\n    [-2, 0,\n        function() {\n            return String.raw`\n              \\begin{align*} \n              y&=ax^2+bx+c\\\\ \n               &= ${a.Value().toFixed(2)}x^2 \n                + ${b.Value().toFixed(2)}x \n                + ${c.Value().toFixed(2)}\n              \\end{align*}`;\n        }\n    ], {\n        anchorX: 'right',\n        anchorY: 'bottom'\n    });",
       "layout": "IPY_MODEL_1a114ce9fe70497ea27798b6a2c5e0ca"
      }
     },
     "57e3e5d489c64885b9b2dbe072e6f611": {
      "model_module": "jupyter-divewidgets",
      "model_module_version": "^0.1.2",
      "model_name": "DIVEWidgetModel",
      "state": {
       "_model_module_version": "^0.1.2",
       "_view_module_version": "^0.1.2",
       "height": 300,
       "html": "<!DOCTYPE html>\n<html>\n    <head>\n    <style>\n    html, body {\n        height: 100%;\n    }\n    body {\n        display: flex;\n        padding: 0;\n        margin: 0;\n    }\n    .jxgbox {\n        width:100%; \n        flex-grow: 1;\n    }\n    </style>\n    <link rel=\"stylesheet\" type=\"text/css\" href=\"https://jsxgraph.org/distrib/jsxgraph.css\" />\n    <script type=\"text/javascript\" src=\"https://cdn.jsdelivr.net/npm/jsxgraph/distrib/jsxgraphcore.js\"></script>\n    <script type=\"text/javascript\" src=\"https://www.cs.cityu.edu.hk/~ccha23/js/load-mathjax.js\"></script>\n    </head>\n<body>\n<div id=\"jxgbox\" class=\"jxgbox\"></div>\n</body>\n</html>",
       "js": "JXG.Options.text.useMathJax = true;\nconst brd = JXG.JSXGraph.initBoard('jxgbox', {\n    boundingbox: [-8, 8, 8, -4],\n    axis: true,\n    showCopyright: false\n});\nconst a = brd.create('slider', [\n    [3, 3],\n    [6, 3],\n    [-3, 1, 3]\n], {\n    name: 'a',\n    snapWidth: 0.1\n});\nconst b = brd.create('slider', [\n    [3, 2],\n    [6, 2],\n    [-3, 0, 3]\n], {\n    name: 'b',\n    snapWidth: 0.1\n});\nconst c = brd.create('slider', [\n    [3, 1],\n    [6, 1],\n    [-3, 0, 3]\n], {\n    name: 'c',\n    snapWidth: 0.1\n});\nbrd.create('functiongraph', [function(x) {\n    return a.Value() * x * x + b.Value() * x + c.Value();\n}, -10, 10]);\nbrd.create('text',\n    [-1, -1,\n        function() {\n            return String.raw`\n              \\begin{empheq}[left={\\text{Parabola} \\empheqlbrace}]{align}\n              y&=ax^2+bx+c\\tag{1}\\\\ \n               &= ${a.Value().toFixed(2)}x^2 \n                + ${b.Value().toFixed(2)}x \n                + ${c.Value().toFixed(2)} \\tag{2}\n              \\end{empheq}`;\n        }\n    ], {\n        anchorX: 'right',\n        anchorY: 'top'\n    });",
       "layout": "IPY_MODEL_179f5f68e07e4d7e82b99e10334cc02b"
      }
     },
     "773ff194d2424e1fab3ebf5b894ac284": {
      "model_module": "@jupyter-widgets/base",
      "model_module_version": "1.2.0",
      "model_name": "LayoutModel",
      "state": {}
     },
     "9ad21ff8a7274778b2063fb1a77fb483": {
      "model_module": "jupyter-divewidgets",
      "model_module_version": "^0.1.2",
      "model_name": "DIVEWidgetModel",
      "state": {
       "_model_module_version": "^0.1.2",
       "_view_module_version": "^0.1.2",
       "html": "<!DOCTYPE html>\n<html>\n    <head>\n    <style>\n    html, body {\n        height: 100%;\n    }\n    body {\n        display: flex;\n        padding: 0;\n        margin: 0;\n    }\n    .jxgbox {\n        width:100%; \n        flex-grow: 1;\n    }\n    </style>\n    <link rel=\"stylesheet\" type=\"text/css\" href=\"https://jsxgraph.org/distrib/jsxgraph.css\" />\n    <script type=\"text/javascript\" src=\"https://cdn.jsdelivr.net/npm/jsxgraph/distrib/jsxgraphcore.js\"></script>\n    <script type=\"text/javascript\" src=\"https://cdn.jsdelivr.net/npm/mathjax@3/es5/tex-chtml.js\"></script>\n    </head>\n<body>\n<div id=\"box\" class=\"jxgbox\"></div>\n</body>\n</html>",
       "js": "JXG.Options.text.useMathJax = true;\nvar brd = JXG.JSXGraph.initBoard('box', {\n    boundingbox: [-8, 8, 8, -4],\n    axis: true,\n    showCopyright: false\n});\nvar a = brd.create('slider', [\n    [3, 3],\n    [6, 3],\n    [-3, 1, 3]\n], {\n    name: 'a',\n    snapWidth: 0.1\n});\nvar b = brd.create('slider', [\n    [3, 2],\n    [6, 2],\n    [-3, 0, 3]\n], {\n    name: 'b',\n    snapWidth: 0.1\n});\nvar c = brd.create('slider', [\n    [3, 1],\n    [6, 1],\n    [-3, 0, 3]\n], {\n    name: 'c',\n    snapWidth: 0.1\n});\nbrd.create('functiongraph', [function(x) {\n    return a.Value() * x * x + b.Value() * x + c.Value();\n}, -10, 10]);\nbrd.create('text',\n    [-2, 0,\n        function() {\n            return String.raw`\n              \\begin{align*} \n              y&=ax^2+bx+c\\\\ \n               &= ${a.Value().toFixed(2)}x^2 \n                + ${b.Value().toFixed(2)}x \n                + ${c.Value().toFixed(2)}\n              \\end{align*}`;\n        }\n    ], {\n        anchorX: 'right',\n        anchorY: 'bottom'\n    });",
       "layout": "IPY_MODEL_dc1dce1dd4a04fab921de92508bb56bf"
      }
     },
     "a6c361c879324abcb95756b015062e3a": {
      "model_module": "@jupyter-widgets/base",
      "model_module_version": "1.2.0",
      "model_name": "LayoutModel",
      "state": {}
     },
     "b1ec1c3bb2084acdb5a049e2ce28451a": {
      "model_module": "jupyter-divewidgets",
      "model_module_version": "^0.1.2",
      "model_name": "DIVEWidgetModel",
      "state": {
       "_model_module_version": "^0.1.2",
       "_view_module_version": "^0.1.2",
       "html": "<!DOCTYPE html>\n<html>\n    <head>\n    <style>\n    html, body {\n        height: 100%;\n    }\n    body {\n        display: flex;\n        padding: 0;\n        margin: 0;\n    }\n    .jxgbox {\n        width:100%; \n        flex-grow: 1;\n    }\n    </style>\n    <link rel=\"stylesheet\" type=\"text/css\" href=\"https://jsxgraph.org/distrib/jsxgraph.css\" />\n    <script type=\"text/javascript\" src=\"https://cdn.jsdelivr.net/npm/jsxgraph/distrib/jsxgraphcore.js\"></script>\n    <script type=\"text/javascript\" src=\"https://cdn.jsdelivr.net/npm/mathjax@3/es5/tex-chtml.js\"></script>\n    </head>\n<body>\n<div id=\"box\" class=\"jxgbox\"></div>\n</body>\n</html>",
       "js": "JXG.Options.text.useMathJax = true;\nvar brd = JXG.JSXGraph.initBoard('box', {\n    boundingbox: [-8, 8, 8, -4],\n    axis: true,\n    showCopyright: false\n});\nvar a = brd.create('slider', [\n    [3, 3],\n    [6, 3],\n    [-3, 1, 3]\n], {\n    name: 'a',\n    snapWidth: 0.1\n});\nvar b = brd.create('slider', [\n    [3, 2],\n    [6, 2],\n    [-3, 0, 3]\n], {\n    name: 'b',\n    snapWidth: 0.1\n});\nvar c = brd.create('slider', [\n    [3, 1],\n    [6, 1],\n    [-3, 0, 3]\n], {\n    name: 'c',\n    snapWidth: 0.1\n});\nbrd.create('functiongraph', [function(x) {\n    return a.Value() * x * x + b.Value() * x + c.Value();\n}, -10, 10]);\nbrd.create('text',\n    [-2, 0,\n        function() {\n            return String.raw`\n              \\begin{align*} \n              y&=ax^2+bx+c\\\\ \n               &= ${a.Value().toFixed(2)}x^2 \n                + ${b.Value().toFixed(2)}x \n                + ${c.Value().toFixed(2)}\n              \\end{align*}`;\n        }\n    ], {\n        anchorX: 'right',\n        anchorY: 'bottom'\n    });",
       "layout": "IPY_MODEL_46b0f1aecd8848ec962f09bf19ac1435"
      }
     },
     "b4382b88c55340719f0b0d182a10b6d4": {
      "model_module": "@jupyter-widgets/base",
      "model_module_version": "1.2.0",
      "model_name": "LayoutModel",
      "state": {}
     },
     "b8c65502727940b3815f5ca5ede8a89b": {
      "model_module": "@jupyter-widgets/base",
      "model_module_version": "1.2.0",
      "model_name": "LayoutModel",
      "state": {}
     },
     "cad5dbabe2bd40828600e92ef6464ede": {
      "model_module": "jupyter-divewidgets",
      "model_module_version": "^0.1.2",
      "model_name": "DIVEWidgetModel",
      "state": {
       "_model_module_version": "^0.1.2",
       "_view_module_version": "^0.1.2",
       "height": 300,
       "html": "<!DOCTYPE html>\n<html>\n    <head>\n    <style>\n    html, body {\n        height: 100%;\n    }\n    body {\n        display: flex;\n        padding: 0;\n        margin: 0;\n    }\n    .jxgbox {\n        width:100%; \n        flex-grow: 1;\n    }\n    </style>\n    <link rel=\"stylesheet\" type=\"text/css\" href=\"https://jsxgraph.org/distrib/jsxgraph.css\" />\n    <script type=\"text/javascript\" src=\"https://cdn.jsdelivr.net/npm/jsxgraph/distrib/jsxgraphcore.js\"></script>\n    <script type=\"text/javascript\" src=\"https://www.cs.cityu.edu.hk/~ccha23/js/load-mathjax.js\"></script>\n    </head>\n<body>\n<div id=\"jxgbox\" class=\"jxgbox\"></div>\n</body>\n</html>",
       "js": "JXG.Options.text.useMathJax = true;\nconst brd = JXG.JSXGraph.initBoard('jxgbox', {\n    boundingbox: [-8, 8, 8, -4],\n    axis: true,\n    showCopyright: false\n});\nconst a = brd.create('slider', [\n    [3, 3],\n    [6, 3],\n    [-3, 1, 3]\n], {\n    name: 'a',\n    snapWidth: 0.1\n});\nconst b = brd.create('slider', [\n    [3, 2],\n    [6, 2],\n    [-3, 0, 3]\n], {\n    name: 'b',\n    snapWidth: 0.1\n});\nconst c = brd.create('slider', [\n    [3, 1],\n    [6, 1],\n    [-3, 0, 3]\n], {\n    name: 'c',\n    snapWidth: 0.1\n});\nbrd.create('functiongraph', [function(x) {\n    return a.Value() * x * x + b.Value() * x + c.Value();\n}, -10, 10]);\nbrd.create('text',\n    [-1, -1,\n        function() {\n            return String.raw`\n              \\begin{empheq}[left={\\text{Parabola} \\empheqlbrace}]{align}\n              y&=ax^2+bx+c\\tag{1}\\\\ \n               &= ${a.Value().toFixed(2)}x^2 \n                + ${b.Value().toFixed(2)}x \n                + ${c.Value().toFixed(2)} \\tag{2}\n              \\end{empheq}`;\n        }\n    ], {\n        anchorX: 'right',\n        anchorY: 'top'\n    });",
       "layout": "IPY_MODEL_773ff194d2424e1fab3ebf5b894ac284"
      }
     },
     "d6fa287929b84d93b28d9ac7936fe663": {
      "model_module": "@jupyter-widgets/base",
      "model_module_version": "1.2.0",
      "model_name": "LayoutModel",
      "state": {}
     },
     "d7d52f4a128742af83f35df0137c0a05": {
      "model_module": "@jupyter-widgets/base",
      "model_module_version": "1.2.0",
      "model_name": "LayoutModel",
      "state": {}
     },
     "dc1dce1dd4a04fab921de92508bb56bf": {
      "model_module": "@jupyter-widgets/base",
      "model_module_version": "1.2.0",
      "model_name": "LayoutModel",
      "state": {}
     },
     "e314995e9baa43c7a9dbde48cfbf284e": {
      "model_module": "jupyter-divewidgets",
      "model_module_version": "^0.1.2",
      "model_name": "DIVEWidgetModel",
      "state": {
       "_model_module_version": "^0.1.2",
       "_view_module_version": "^0.1.2",
       "html": "<!DOCTYPE html>\n<html>\n    <head>\n    <style>\n    html, body {\n        height: 100%;\n    }\n    body {\n        display: flex;\n        padding: 0;\n        margin: 0;\n    }\n    .jxgbox {\n        width:100%; \n        flex-grow: 1;\n    }\n    </style>\n    <link rel=\"stylesheet\" type=\"text/css\" href=\"https://jsxgraph.org/distrib/jsxgraph.css\" />\n    <script type=\"text/javascript\" src=\"https://cdn.jsdelivr.net/npm/jsxgraph/distrib/jsxgraphcore.js\"></script>\n    <script type=\"text/javascript\" src=\"https://cdn.jsdelivr.net/npm/mathjax@3/es5/tex-chtml.js\"></script>\n    </head>\n<body>\n<div id=\"box\" class=\"jxgbox\"></div>\n</body>\n</html>",
       "js": "JXG.Options.text.useMathJax = true;\nvar brd = JXG.JSXGraph.initBoard('box', {\n    boundingbox: [-8, 8, 8, -4],\n    axis: true,\n    showCopyright: false\n});\nvar a = brd.create('slider', [\n    [3, 3],\n    [6, 3],\n    [-3, 1, 3]\n], {\n    name: 'a',\n    snapWidth: 0.1\n});\nvar b = brd.create('slider', [\n    [3, 2],\n    [6, 2],\n    [-3, 0, 3]\n], {\n    name: 'b',\n    snapWidth: 0.1\n});\nvar c = brd.create('slider', [\n    [3, 1],\n    [6, 1],\n    [-3, 0, 3]\n], {\n    name: 'c',\n    snapWidth: 0.1\n});\nbrd.create('functiongraph', [function(x) {\n    return a.Value() * x * x + b.Value() * x + c.Value();\n}, -10, 10]);\nbrd.create('text',\n    [-2, 0,\n        function() {\n            return String.raw`\n              \\begin{align*} \n              y&=ax^2+bx+c\\\\ \n               &= ${a.Value().toFixed(2)}x^2 \n                + ${b.Value().toFixed(2)}x \n                + ${c.Value().toFixed(2)}\n              \\end{align*}`;\n        }\n    ], {\n        anchorX: 'right',\n        anchorY: 'bottom'\n    });",
       "layout": "IPY_MODEL_b8c65502727940b3815f5ca5ede8a89b"
      }
     },
     "e51dc63f88cd405db32f603a8fb03289": {
      "model_module": "jupyter-divewidgets",
      "model_module_version": "^0.1.2",
      "model_name": "DIVEWidgetModel",
      "state": {
       "_model_module_version": "^0.1.2",
       "_view_module_version": "^0.1.2",
       "html": "<!DOCTYPE html>\n<html>\n    <head>\n    <style>\n    html, body {\n        height: 100%;\n    }\n    body {\n        display: flex;\n        padding: 0;\n        margin: 0;\n    }\n    .jxgbox {\n        width:100%; \n        flex-grow: 1;\n    }\n    </style>\n    <link rel=\"stylesheet\" type=\"text/css\" href=\"https://jsxgraph.org/distrib/jsxgraph.css\" />\n    <script type=\"text/javascript\" src=\"https://cdn.jsdelivr.net/npm/jsxgraph/distrib/jsxgraphcore.js\"></script>\n    <script type=\"text/javascript\" src=\"https://cdn.jsdelivr.net/npm/mathjax@3/es5/tex-chtml.js\"></script>\n    </head>\n<body>\n<div id=\"box\" class=\"jxgbox\"></div>\n</body>\n</html>",
       "js": "JXG.Options.text.useMathJax = true;\nvar brd = JXG.JSXGraph.initBoard('box', {\n    boundingbox: [-8, 8, 8, -4],\n    axis: true,\n    showCopyright: false\n});\nvar a = brd.create('slider', [\n    [3, 3],\n    [6, 3],\n    [-3, 1, 3]\n], {\n    name: 'a',\n    snapWidth: 0.1\n});\nvar b = brd.create('slider', [\n    [3, 2],\n    [6, 2],\n    [-3, 0, 3]\n], {\n    name: 'b',\n    snapWidth: 0.1\n});\nvar c = brd.create('slider', [\n    [3, 1],\n    [6, 1],\n    [-3, 0, 3]\n], {\n    name: 'c',\n    snapWidth: 0.1\n});\nbrd.create('functiongraph', [function(x) {\n    return a.Value() * x * x + b.Value() * x + c.Value();\n}, -10, 10]);\nbrd.create('text',\n    [-2, 0,\n        function() {\n            return String.raw`\n              \\begin{align*} \n              y&=ax^2+bx+c\\\\ \n               &= ${a.Value().toFixed(2)}x^2 \n                + ${b.Value().toFixed(2)}x \n                + ${c.Value().toFixed(2)}\n              \\end{align*}`;\n        }\n    ], {\n        anchorX: 'right',\n        anchorY: 'bottom'\n    });",
       "layout": "IPY_MODEL_a6c361c879324abcb95756b015062e3a"
      }
     }
    },
    "version_major": 2,
    "version_minor": 0
   }
  }
 },
 "nbformat": 4,
 "nbformat_minor": 4
}
