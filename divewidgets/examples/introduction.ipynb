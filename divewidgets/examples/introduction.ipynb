{
 "cells": [
  {
   "cell_type": "markdown",
   "metadata": {},
   "source": [
    "# Introduction"
   ]
  },
  {
   "cell_type": "code",
   "execution_count": 14,
   "metadata": {},
   "outputs": [],
   "source": [
    "%reload_ext divewidgets"
   ]
  },
  {
   "cell_type": "code",
   "execution_count": 15,
   "metadata": {},
   "outputs": [
    {
     "data": {
      "application/vnd.jupyter.widget-view+json": {
       "model_id": "941abbd859604fe68185b7117e5754f9",
       "version_major": 2,
       "version_minor": 0
      },
      "text/plain": [
       "JSXGraph(value=None, code=\"var brd, k;\\nJXG.Options.text.useMathJax = true;\\nbrd = JXG.JSXGraph.initBoard('jxg…"
      ]
     },
     "metadata": {},
     "output_type": "display_data"
    }
   ],
   "source": [
    "%%jsxgraph -i jxgbox -m ./load-mathjax.js -h 400 -w 600\n",
    "var brd, k;\n",
    "JXG.Options.text.useMathJax = true;\n",
    "brd = JXG.JSXGraph.initBoard('jxgbox', {boundingbox:[-5,20,5,-5], axis:true, showNavigation:true, showCopyright:true});\n",
    "k = brd.create('slider',[[-4,-2],[3,-2],[-5,1,5]],{name:'n', snapWidth:1});\n",
    "brd.create('functiongraph', [function(t) {return JXG.Math.pow(Math.E,t*k.Value());}],{strokeColor:'#ff0000'});\n",
    "brd.create('text',[-4,15,\n",
    "  function() { \n",
    "    return '\\\\[f(x) = \\\\R{e}^{' + k.Value() + 'x}\\\\]';\n",
    "  }]);"
   ]
  },
  {
   "cell_type": "code",
   "execution_count": 16,
   "metadata": {},
   "outputs": [
    {
     "data": {
      "application/vnd.jupyter.widget-view+json": {
       "model_id": "941abbd859604fe68185b7117e5754f9",
       "version_major": 2,
       "version_minor": 0
      },
      "text/plain": [
       "JSXGraph(value=None, code=\"var brd, k;\\nJXG.Options.text.useMathJax = true;\\nbrd = JXG.JSXGraph.initBoard('jxg…"
      ]
     },
     "metadata": {},
     "output_type": "display_data"
    }
   ],
   "source": [
    "_"
   ]
  },
  {
   "cell_type": "code",
   "execution_count": 17,
   "metadata": {},
   "outputs": [],
   "source": [
    "import divewidgets"
   ]
  },
  {
   "cell_type": "code",
   "execution_count": 18,
   "metadata": {},
   "outputs": [
    {
     "data": {
      "application/vnd.jupyter.widget-view+json": {
       "model_id": "af7c64cfd7204365ace4ed71e700277a",
       "version_major": 2,
       "version_minor": 0
      },
      "text/plain": [
       "JSXGraph(value=None)"
      ]
     },
     "metadata": {},
     "output_type": "display_data"
    }
   ],
   "source": [
    "w = divewidgets.JSXGraph()\n",
    "w"
   ]
  }
 ],
 "metadata": {
  "kernelspec": {
   "display_name": "Python 3 (ipykernel)",
   "language": "python",
   "name": "python3"
  },
  "language_info": {
   "codemirror_mode": {
    "name": "ipython",
    "version": 3
   },
   "file_extension": ".py",
   "mimetype": "text/x-python",
   "name": "python",
   "nbconvert_exporter": "python",
   "pygments_lexer": "ipython3",
   "version": "3.9.13"
  },
  "widgets": {
   "application/vnd.jupyter.widget-state+json": {
    "state": {
     "1feec11257c64822a4d882a402fc06ee": {
      "model_module": "jupyter-divewidgets",
      "model_module_version": "^0.1.0",
      "model_name": "JSXGraphModel",
      "state": {
       "_model_module_version": "^0.1.0",
       "_view_module_version": "^0.1.0",
       "code": "var brd, k;\nbrd = JXG.JSXGraph.initBoard('jxgbox', {boundingbox:[-5,20,5,-5], axis:true, showNavigation:true, showCopyright:true});\nk = brd.create('slider',[[-4,-2],[3,-2],[-5,1,5]],{name:'n', snapWidth:1});\nbrd.create('functiongraph', [function(t) {return JXG.Math.pow(Math.E,t*k.Value());}],{strokeColor:'#ff0000'});\nbrd.create('text',[-4,15,\n  function() { \n    return '\\\\[f(x) = \\\\R{e}^{' + k.Value() + 'x}\\\\]';\n  }]);\n",
       "height": 400,
       "id": "jxgbox",
       "layout": "IPY_MODEL_fa239a0cee0f493fa4b1e1eb974286b2",
       "mathjax_url": "./load-mathjax.js",
       "width": 600
      }
     },
     "319460555f134c2683ca8d9de09769f7": {
      "model_module": "@jupyter-widgets/base",
      "model_module_version": "1.2.0",
      "model_name": "LayoutModel",
      "state": {}
     },
     "336121ee8fdf49f09c219d53d0316683": {
      "model_module": "jupyter-divewidgets",
      "model_module_version": "^0.1.0",
      "model_name": "JSXGraphModel",
      "state": {
       "_model_module_version": "^0.1.0",
       "_view_module_version": "^0.1.0",
       "code": "var brd, k;\nJXG.Options.text.useMathJax = true;\nbrd = JXG.JSXGraph.initBoard('jxgbox', {boundingbox:[-5,20,5,-5], axis:true, showNavigation:true, showCopyright:true});\nk = brd.create('slider',[[-4,-2],[3,-2],[-5,1,5]],{name:'n', snapWidth:1});\nbrd.create('functiongraph', [function(t) {return JXG.Math.pow(Math.E,t*k.Value());}],{strokeColor:'#ff0000'});\nbrd.create('text',[-4,15,\n  function() { \n    return '\\\\[f(x) = \\\\R{e}^{' + k.Value() + 'x}\\\\]';\n  }]);\n",
       "height": 400,
       "id": "jxgbox",
       "layout": "IPY_MODEL_d0c3a4fd8b0b424c822de255b70d38b6",
       "mathjax_url": "./load-mathjax.js",
       "width": 600
      }
     },
     "48c14e0c0be24a8090fdc464d87a0d51": {
      "model_module": "jupyter-divewidgets",
      "model_module_version": "^0.1.0",
      "model_name": "JSXGraphModel",
      "state": {
       "_model_module_version": "^0.1.0",
       "_view_module_version": "^0.1.0",
       "code": "var brd, k;\nJXG.Options.text.useMathJax = true;\nbrd = JXG.JSXGraph.initBoard('jxgbox', {boundingbox:[-5,20,5,-5], axis:true, showNavigation:true, showCopyright:true});\nk = brd.create('slider',[[-4,-2],[3,-2],[-5,1,5]],{name:'n', snapWidth:1});\nbrd.create('functiongraph', [function(t) {return JXG.Math.pow(Math.E,t*k.Value());}],{strokeColor:'#ff0000'});\nbrd.create('text',[-4,15,\n  function() { \n    return '\\\\[f(x) = \\\\R{e}^{' + k.Value() + 'x}\\\\]';\n  }]);\n",
       "height": 400,
       "id": "jxgbox",
       "layout": "IPY_MODEL_988d2ce016f74544908b8bdb9c7e53b6",
       "mathjax_url": "./load-mathjax.js",
       "width": 600
      }
     },
     "497b7a49ce5c499082d37f327f044e45": {
      "model_module": "@jupyter-widgets/base",
      "model_module_version": "1.2.0",
      "model_name": "LayoutModel",
      "state": {}
     },
     "4a0f68d3858e407a82069ecc2e38b7c9": {
      "model_module": "@jupyter-widgets/base",
      "model_module_version": "1.2.0",
      "model_name": "LayoutModel",
      "state": {}
     },
     "78fa3d4b3c94473880bc1c352526fd47": {
      "model_module": "@jupyter-widgets/base",
      "model_module_version": "1.2.0",
      "model_name": "LayoutModel",
      "state": {}
     },
     "83a1b5ae92fc478b8d2faac752db1931": {
      "model_module": "jupyter-divewidgets",
      "model_module_version": "^0.1.0",
      "model_name": "JSXGraphModel",
      "state": {
       "_model_module_version": "^0.1.0",
       "_view_module_version": "^0.1.0",
       "code": "var brd, k;\nJXG.Options.text.useMathJax = true;\nbrd = JXG.JSXGraph.initBoard('jxgbox', {boundingbox:[-5,5,5,-5], axis:true, showNavigation:true, showCopyright:true});\nk = brd.create('slider',[[-4,-2],[3,-2],[-5,1,5]],{name:'n', snapWidth:1});\nbrd.create('functiongraph', [function(t) {return JXG.Math.pow(Math.E,t*k.Value());}],{strokeColor:'#ff0000'});\nbrd.create('text',[-4,15,\n  function() { \n    return '\\\\[f(x) = \\\\R{e}^{' + k.Value() + 'x}\\\\]';\n  }]);\n",
       "height": 400,
       "id": "jxgbox",
       "layout": "IPY_MODEL_9c9cf8c29b644b3699354e608662e43f",
       "mathjax_url": "./load-mathjax.js",
       "width": 600
      }
     },
     "8cf02cc9302c4384b1109ea917d62e09": {
      "model_module": "jupyter-divewidgets",
      "model_module_version": "^0.1.0",
      "model_name": "JSXGraphModel",
      "state": {
       "_model_module_version": "^0.1.0",
       "_view_module_version": "^0.1.0",
       "code": "var brd, k;\nJXG.Options.text.useMathJax = true;\nbrd = JXG.JSXGraph.initBoard('jxgbox', {boundingbox:[-5,20,5,-5], axis:true, showNavigation:true, showCopyright:true});\nk = brd.create('slider',[[-4,-2],[3,-2],[-5,1,5]],{name:'n', snapWidth:1});\nbrd.create('functiongraph', [function(t) {return JXG.Math.pow(Math.E,t*k.Value());}],{strokeColor:'#ff0000'});\nbrd.create('text',[-4,15,\n  function() { \n    return '\\\\[f(x) = \\\\R{e}^{' + k.Value() + 'x}\\\\]';\n  }]);\n",
       "height": 400,
       "id": "jxgbox",
       "layout": "IPY_MODEL_ff3b3ccc64cf498f922beeddca0f8853",
       "mathjax_url": "./load-mathjax.js",
       "width": 600
      }
     },
     "941abbd859604fe68185b7117e5754f9": {
      "model_module": "jupyter-divewidgets",
      "model_module_version": "^0.1.0",
      "model_name": "JSXGraphModel",
      "state": {
       "_model_module_version": "^0.1.0",
       "_view_module_version": "^0.1.0",
       "code": "var brd, k;\nJXG.Options.text.useMathJax = true;\nbrd = JXG.JSXGraph.initBoard('jxgbox', {boundingbox:[-5,20,5,-5], axis:true, showNavigation:true, showCopyright:true});\nk = brd.create('slider',[[-4,-2],[3,-2],[-5,1,5]],{name:'n', snapWidth:1});\nbrd.create('functiongraph', [function(t) {return JXG.Math.pow(Math.E,t*k.Value());}],{strokeColor:'#ff0000'});\nbrd.create('text',[-4,15,\n  function() { \n    return '\\\\[f(x) = \\\\R{e}^{' + k.Value() + 'x}\\\\]';\n  }]);\n",
       "height": 400,
       "id": "jxgbox",
       "layout": "IPY_MODEL_497b7a49ce5c499082d37f327f044e45",
       "mathjax_url": "./load-mathjax.js",
       "width": 600
      }
     },
     "988d2ce016f74544908b8bdb9c7e53b6": {
      "model_module": "@jupyter-widgets/base",
      "model_module_version": "1.2.0",
      "model_name": "LayoutModel",
      "state": {}
     },
     "9c9cf8c29b644b3699354e608662e43f": {
      "model_module": "@jupyter-widgets/base",
      "model_module_version": "1.2.0",
      "model_name": "LayoutModel",
      "state": {}
     },
     "af7c64cfd7204365ace4ed71e700277a": {
      "model_module": "jupyter-divewidgets",
      "model_module_version": "^0.1.0",
      "model_name": "JSXGraphModel",
      "state": {
       "_model_module_version": "^0.1.0",
       "_view_module_version": "^0.1.0",
       "code": "const board = JXG.JSXGraph.initBoard(\"box\", { boundingbox: [-5, 5, 5, -5], axis:true });",
       "height": 600,
       "layout": "IPY_MODEL_319460555f134c2683ca8d9de09769f7",
       "mathjax_url": "https://cdn.jsdelivr.net/npm/mathjax@3/es5/tex-chtml.js",
       "width": 600
      }
     },
     "b4e8f93bea994e5a8d7eb952ac2ec3cb": {
      "model_module": "jupyter-divewidgets",
      "model_module_version": "^0.1.0",
      "model_name": "JSXGraphModel",
      "state": {
       "_model_module_version": "^0.1.0",
       "_view_module_version": "^0.1.0",
       "code": "var brd, k;\nJXG.Options.text.useMathJax = true;\nbrd = JXG.JSXGraph.initBoard('jxgbox', {boundingbox:[-5,20,5,-5], axis:true, showNavigation:true, showCopyright:true});\nk = brd.create('slider',[[-4,-2],[3,-2],[-5,1,5]],{name:'n', snapWidth:1});\nbrd.create('functiongraph', [function(t) {return JXG.Math.pow(Math.E,t*k.Value());}],{strokeColor:'#ff0000'});\nbrd.create('text',[-4,15,\n  function() { \n    return '\\\\[f(x) = \\\\R{e}^{' + k.Value() + 'x}\\\\]';\n  }]);\n",
       "height": 400,
       "id": "jxgbox",
       "layout": "IPY_MODEL_78fa3d4b3c94473880bc1c352526fd47",
       "mathjax_url": "./load-mathjax.js",
       "width": 600
      }
     },
     "bf8606545a184d43b13fe5895953efe4": {
      "model_module": "jupyter-divewidgets",
      "model_module_version": "^0.1.0",
      "model_name": "JSXGraphModel",
      "state": {
       "_model_module_version": "^0.1.0",
       "_view_module_version": "^0.1.0",
       "code": "abc",
       "height": 400,
       "id": "jxgbox",
       "layout": "IPY_MODEL_4a0f68d3858e407a82069ecc2e38b7c9",
       "mathjax_url": "./load-mathjax.js",
       "width": 600
      }
     },
     "d0c3a4fd8b0b424c822de255b70d38b6": {
      "model_module": "@jupyter-widgets/base",
      "model_module_version": "1.2.0",
      "model_name": "LayoutModel",
      "state": {}
     },
     "d551f9a23d03463b9f1d46d8bdefe6b8": {
      "model_module": "jupyter-divewidgets",
      "model_module_version": "^0.1.0",
      "model_name": "JSXGraphModel",
      "state": {
       "_model_module_version": "^0.1.0",
       "_view_module_version": "^0.1.0",
       "code": "var brd, k;\nJXG.Options.text.useMathJax = true;\nbrd = JXG.JSXGraph.initBoard('jxgbox', {boundingbox:[-5,20,5,-5], axis:true, showNavigation:true, showCopyright:true});\nk = brd.create('slider',[[-4,-2],[3,-2],[-5,1,5]],{name:'n', snapWidth:1});\nbrd.create('functiongraph', [function(t) {return JXG.Math.pow(Math.E,t*k.Value());}],{strokeColor:'#ff0000'});\nbrd.create('text',[-4,15,\n  function() { \n    return '\\\\[f(x) = \\\\R{e}^{' + k.Value() + 'x}\\\\]';\n  }]);\n",
       "height": 400,
       "id": "jxgbox",
       "layout": "IPY_MODEL_e97919aa1ed04cccad5b608d47bef807",
       "mathjax_url": "./load-mathjax.js",
       "width": 600
      }
     },
     "e97919aa1ed04cccad5b608d47bef807": {
      "model_module": "@jupyter-widgets/base",
      "model_module_version": "1.2.0",
      "model_name": "LayoutModel",
      "state": {}
     },
     "fa239a0cee0f493fa4b1e1eb974286b2": {
      "model_module": "@jupyter-widgets/base",
      "model_module_version": "1.2.0",
      "model_name": "LayoutModel",
      "state": {}
     },
     "ff3b3ccc64cf498f922beeddca0f8853": {
      "model_module": "@jupyter-widgets/base",
      "model_module_version": "1.2.0",
      "model_name": "LayoutModel",
      "state": {}
     }
    },
    "version_major": 2,
    "version_minor": 0
   }
  }
 },
 "nbformat": 4,
 "nbformat_minor": 4
}
