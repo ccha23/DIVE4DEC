{
 "cells": [
  {
   "cell_type": "markdown",
   "metadata": {},
   "source": [
    "# Introduction"
   ]
  },
  {
   "cell_type": "code",
   "execution_count": 1,
   "metadata": {},
   "outputs": [],
   "source": [
    "%reload_ext divewidgets"
   ]
  },
  {
   "cell_type": "code",
   "execution_count": 6,
   "metadata": {},
   "outputs": [
    {
     "data": {
      "application/vnd.jupyter.widget-view+json": {
       "model_id": "00b716d8c9154108a8dd3bb351bb8791",
       "version_major": 2,
       "version_minor": 0
      },
      "text/plain": [
       "JSXGraph(value=None, code=\"var brd, k;\\nJXG.Options.text.useMathJax = true;\\nbrd = JXG.JSXGraph.initBoard('jxg…"
      ]
     },
     "metadata": {},
     "output_type": "display_data"
    }
   ],
   "source": [
    "%%jsxgraph -i jxgbox -m ./load-mathjax.js -h 400 -w 600\n",
    "var brd, k;\n",
    "JXG.Options.text.useMathJax = true;\n",
    "brd = JXG.JSXGraph.initBoard('jxgbox', {boundingbox:[-5,20,5,-5], axis:true, showNavigation:true, showCopyright:true});\n",
    "k = brd.create('slider',[[-4,-2],[3,-2],[-5,1,5]],{name:'n', snapWidth:1});\n",
    "brd.create('functiongraph', [function(t) {return JXG.Math.pow(Math.E,t*k.Value());}],{strokeColor:'#ff0000'});\n",
    "brd.create('text',[-4,15,\n",
    "  function() { \n",
    "    return '\\\\[f(x) = \\\\R{e}^{' + k.Value() + 'x}\\\\]';\n",
    "  }]);"
   ]
  },
  {
   "cell_type": "code",
   "execution_count": 7,
   "metadata": {},
   "outputs": [
    {
     "data": {
      "application/vnd.jupyter.widget-view+json": {
       "model_id": "18e23c57ae844d2f928c7b5430946c7e",
       "version_major": 2,
       "version_minor": 0
      },
      "text/plain": [
       "JSXGraph(value=None, code='const board = JXG.JSXGraph.initBoard(\"box\", { boundingbox: [-5, 5, 5, -5], axis:tru…"
      ]
     },
     "metadata": {},
     "output_type": "display_data"
    }
   ],
   "source": [
    "_"
   ]
  },
  {
   "cell_type": "code",
   "execution_count": 8,
   "metadata": {},
   "outputs": [],
   "source": [
    "import divewidgets"
   ]
  },
  {
   "cell_type": "code",
   "execution_count": 9,
   "metadata": {},
   "outputs": [
    {
     "data": {
      "application/vnd.jupyter.widget-view+json": {
       "model_id": "811e2c20cea34588915975f2d88adc21",
       "version_major": 2,
       "version_minor": 0
      },
      "text/plain": [
       "JSXGraph(value=None)"
      ]
     },
     "metadata": {},
     "output_type": "display_data"
    }
   ],
   "source": [
    "w = divewidgets.JSXGraph()\n",
    "w"
   ]
  },
  {
   "cell_type": "code",
   "execution_count": null,
   "metadata": {},
   "outputs": [],
   "source": []
  }
 ],
 "metadata": {
  "kernelspec": {
   "display_name": "Python 3 (ipykernel)",
   "language": "python",
   "name": "python3"
  },
  "language_info": {
   "codemirror_mode": {
    "name": "ipython",
    "version": 3
   },
   "file_extension": ".py",
   "mimetype": "text/x-python",
   "name": "python",
   "nbconvert_exporter": "python",
   "pygments_lexer": "ipython3",
   "version": "3.10.5"
  },
  "widgets": {
   "application/vnd.jupyter.widget-state+json": {
    "state": {
     "00b716d8c9154108a8dd3bb351bb8791": {
      "model_module": "jupyter-divewidgets",
      "model_module_version": "^0.1.0",
      "model_name": "JSXGraphModel",
      "state": {
       "_model_module_version": "^0.1.0",
       "_view_module_version": "^0.1.0",
       "code": "var brd, k;\nJXG.Options.text.useMathJax = true;\nbrd = JXG.JSXGraph.initBoard('jxgbox', {boundingbox:[-5,20,5,-5], axis:true, showNavigation:true, showCopyright:true});\nk = brd.create('slider',[[-4,-2],[3,-2],[-5,1,5]],{name:'n', snapWidth:1});\nbrd.create('functiongraph', [function(t) {return JXG.Math.pow(Math.E,t*k.Value());}],{strokeColor:'#ff0000'});\nbrd.create('text',[-4,15,\n  function() { \n    return '\\\\[f(x) = \\\\R{e}^{' + k.Value() + 'x}\\\\]';\n  }]);\n",
       "height": 400,
       "id": "jxgbox",
       "layout": "IPY_MODEL_5b0f5e3bdd6e49f0aaa375948c4f1475",
       "mathjax_url": "./load-mathjax.js",
       "width": 600
      }
     },
     "035d74d1da284592811d8750db812f32": {
      "model_module": "jupyter-divewidgets",
      "model_module_version": "^0.1.0",
      "model_name": "JSXGraphModel",
      "state": {
       "_model_module_version": "^0.1.0",
       "_view_module_version": "^0.1.0",
       "code": "var brd, k;\nJXG.Options.text.useMathJax = true;\nbrd = JXG.JSXGraph.initBoard('jxgbox', {boundingbox:[-5,20,5,-5], axis:true, showNavigation:true, showCopyright:true});\nk = brd.create('slider',[[-4,-2],[3,-2],[-5,1,5]],{name:'n', snapWidth:1});\nbrd.create('functiongraph', [function(t) {return JXG.Math.pow(Math.E,t*k.Value());}],{strokeColor:'#ff0000'});\nbrd.create('text',[-4,15,\n  function() { \n    return '\\\\[f(\\\\RM{x}) = e^{' + k.Value() + 'x}\\\\]';\n  }]);\n",
       "height": 400,
       "id": "jxgbox",
       "layout": "IPY_MODEL_533fa6043216466cb4821fbac68e75ae",
       "mathjax_url": "./load-mathjax.js",
       "width": 600
      }
     },
     "076d2061387c4b64a21701cf241faf23": {
      "model_module": "@jupyter-widgets/base",
      "model_module_version": "1.2.0",
      "model_name": "LayoutModel",
      "state": {}
     },
     "0df9d443327e4f3a8220d47373cb69ce": {
      "model_module": "@jupyter-widgets/base",
      "model_module_version": "1.2.0",
      "model_name": "LayoutModel",
      "state": {}
     },
     "18e23c57ae844d2f928c7b5430946c7e": {
      "model_module": "jupyter-divewidgets",
      "model_module_version": "^0.1.0",
      "model_name": "JSXGraphModel",
      "state": {
       "_model_module_version": "^0.1.0",
       "_view_module_version": "^0.1.0",
       "code": "const board = JXG.JSXGraph.initBoard(\"box\", { boundingbox: [-5, 5, 5, -5], axis:true });\n",
       "height": 600,
       "id": "box",
       "layout": "IPY_MODEL_bae0e1a7c5ed4aa7ba3155302e6279f2",
       "mathjax_url": "https://cdn.jsdelivr.net/npm/mathjax@3/es5/tex-chtml.js",
       "width": 600
      }
     },
     "29bece70e2a842adab017db02d8ea16a": {
      "model_module": "jupyter-divewidgets",
      "model_module_version": "^0.1.0",
      "model_name": "JSXGraphModel",
      "state": {
       "_model_module_version": "^0.1.0",
       "_view_module_version": "^0.1.0",
       "code": "const board = JXG.JSXGraph.initBoard(\"box\", {      boundingbox: [-5, 5, 5, -5], axis:true });",
       "height": 600,
       "id": "box",
       "layout": "IPY_MODEL_9a498953ec504015a8635c7a70dab82c",
       "mathjax_url": "https://cdn.jsdelivr.net/npm/mathjax@3/es5/tex-chtml.js",
       "width": 600
      }
     },
     "375bfb19a2a4472aba140467000cf32f": {
      "model_module": "@jupyter-widgets/base",
      "model_module_version": "1.2.0",
      "model_name": "LayoutModel",
      "state": {}
     },
     "3ba23b236f7c4f39ac75cc8d53b14ae4": {
      "model_module": "jupyter-divewidgets",
      "model_module_version": "^0.1.0",
      "model_name": "JSXGraphModel",
      "state": {
       "_model_module_version": "^0.1.0",
       "_view_module_version": "^0.1.0",
       "code": "const board = JXG.JSXGraph.initBoard(\"box\", { boundingbox: [-5, 5, 5, -5], axis:true });\n",
       "height": 600,
       "id": "box",
       "layout": "IPY_MODEL_076d2061387c4b64a21701cf241faf23",
       "mathjax_url": "https://cdn.jsdelivr.net/npm/mathjax@3/es5/tex-chtml.js",
       "width": 600
      }
     },
     "500c41c4e5e640e1a185bcd89874e5c2": {
      "model_module": "@jupyter-widgets/base",
      "model_module_version": "1.2.0",
      "model_name": "LayoutModel",
      "state": {}
     },
     "533fa6043216466cb4821fbac68e75ae": {
      "model_module": "@jupyter-widgets/base",
      "model_module_version": "1.2.0",
      "model_name": "LayoutModel",
      "state": {}
     },
     "5b0f5e3bdd6e49f0aaa375948c4f1475": {
      "model_module": "@jupyter-widgets/base",
      "model_module_version": "1.2.0",
      "model_name": "LayoutModel",
      "state": {}
     },
     "811e2c20cea34588915975f2d88adc21": {
      "model_module": "jupyter-divewidgets",
      "model_module_version": "^0.1.0",
      "model_name": "JSXGraphModel",
      "state": {
       "_model_module_version": "^0.1.0",
       "_view_module_version": "^0.1.0",
       "code": "const board = JXG.JSXGraph.initBoard(\"box\", {      boundingbox: [-5, 5, 5, -5], axis:true });",
       "height": 600,
       "id": "box",
       "layout": "IPY_MODEL_375bfb19a2a4472aba140467000cf32f",
       "mathjax_url": "https://cdn.jsdelivr.net/npm/mathjax@3/es5/tex-chtml.js",
       "width": 600
      }
     },
     "98bb77a6351443f3a7d208bb6e6d9674": {
      "model_module": "jupyter-divewidgets",
      "model_module_version": "^0.1.0",
      "model_name": "JSXGraphModel",
      "state": {
       "_model_module_version": "^0.1.0",
       "_view_module_version": "^0.1.0",
       "code": "var brd, k;\nJXG.Options.text.useMathJax = true;\nbrd = JXG.JSXGraph.initBoard('jxgbox', {boundingbox:[-5,20,5,-5], axis:true, showNavigation:true, showCopyright:true});\nk = brd.create('slider',[[-4,-2],[3,-2],[-5,1,5]],{name:'n', snapWidth:1});\nbrd.create('functiongraph', [function(t) {return JXG.Math.pow(Math.E,t*k.Value());}],{strokeColor:'#ff0000'});\nbrd.create('text',[-4,15,\n  function() { \n    return '\\\\[f(x) = \\R{e}^{' + k.Value() + 'x}\\\\]';\n  }]);\n",
       "height": 400,
       "id": "jxgbox",
       "layout": "IPY_MODEL_500c41c4e5e640e1a185bcd89874e5c2",
       "mathjax_url": "./load-mathjax.js",
       "width": 600
      }
     },
     "9a498953ec504015a8635c7a70dab82c": {
      "model_module": "@jupyter-widgets/base",
      "model_module_version": "1.2.0",
      "model_name": "LayoutModel",
      "state": {}
     },
     "bae0e1a7c5ed4aa7ba3155302e6279f2": {
      "model_module": "@jupyter-widgets/base",
      "model_module_version": "1.2.0",
      "model_name": "LayoutModel",
      "state": {}
     },
     "bef33f0d82024272b5e3b0357f9fe36a": {
      "model_module": "@jupyter-widgets/base",
      "model_module_version": "1.2.0",
      "model_name": "LayoutModel",
      "state": {}
     },
     "d8d8df57962446fe96ac2d3cd3517158": {
      "model_module": "jupyter-divewidgets",
      "model_module_version": "^0.1.0",
      "model_name": "JSXGraphModel",
      "state": {
       "_model_module_version": "^0.1.0",
       "_view_module_version": "^0.1.0",
       "code": "var brd, k;\nJXG.Options.text.useMathJax = true;\nbrd = JXG.JSXGraph.initBoard('jxgbox', {boundingbox:[-5,20,5,-5], axis:true, showNavigation:true, showCopyright:true});\nk = brd.create('slider',[[-4,-2],[3,-2],[-5,1,5]],{name:'n', snapWidth:1});\nbrd.create('functiongraph', [function(t) {return JXG.Math.pow(Math.E,t*k.Value());}],{strokeColor:'#ff0000'});\nbrd.create('text',[-4,15,\n  function() { \n    return '\\\\[f(\\\\RM{x}) = e^{' + k.Value() + 'x}\\\\]';\n  }]);\n",
       "height": 600,
       "id": "jxgbox",
       "layout": "IPY_MODEL_0df9d443327e4f3a8220d47373cb69ce",
       "mathjax_url": "./load-mathjax.js",
       "width": 500
      }
     },
     "fd1ae8b416804621b808ad60b4e1b029": {
      "model_module": "jupyter-divewidgets",
      "model_module_version": "^0.1.0",
      "model_name": "JSXGraphModel",
      "state": {
       "_model_module_version": "^0.1.0",
       "_view_module_version": "^0.1.0",
       "code": "var brd, k;\nJXG.Options.text.useMathJax = true;\nbrd = JXG.JSXGraph.initBoard('jxgbox', {boundingbox:[-5,20,5,-5], axis:true, showNavigation:true, showCopyright:true});\nk = brd.create('slider',[[-4,-2],[3,-2],[-5,1,5]],{name:'n', snapWidth:1});\nbrd.create('functiongraph', [function(t) {return JXG.Math.pow(Math.E,t*k.Value());}],{strokeColor:'#ff0000'});\nbrd.create('text',[-4,15,\n  function() { \n    return '\\\\[f(\\\\RM{x}) = e^{' + k.Value() + 'x}\\\\]';\n  }]);\n",
       "height": 600,
       "id": "box",
       "layout": "IPY_MODEL_bef33f0d82024272b5e3b0357f9fe36a",
       "mathjax_url": "https://cdn.jsdelivr.net/npm/mathjax@3/es5/tex-chtml.js",
       "width": 600
      }
     }
    },
    "version_major": 2,
    "version_minor": 0
   }
  }
 },
 "nbformat": 4,
 "nbformat_minor": 4
}
