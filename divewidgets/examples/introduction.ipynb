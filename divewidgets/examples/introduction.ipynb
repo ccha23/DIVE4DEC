{
 "cells": [
  {
   "cell_type": "markdown",
   "metadata": {},
   "source": [
    "# Introduction"
   ]
  },
  {
   "cell_type": "code",
   "execution_count": 1,
   "metadata": {},
   "outputs": [],
   "source": [
    "%reload_ext divewidgets"
   ]
  },
  {
   "cell_type": "code",
   "execution_count": 2,
   "metadata": {},
   "outputs": [
    {
     "data": {
      "application/vnd.jupyter.widget-view+json": {
       "model_id": "95c1928d857042f1bc99d1d574029b71",
       "version_major": 2,
       "version_minor": 0
      },
      "text/plain": [
       "JSXGraph(value=None, code=\"var brd, k;\\nJXG.Options.text.useMathJax = true;\\nbrd = JXG.JSXGraph.initBoard('jxg…"
      ]
     },
     "metadata": {},
     "output_type": "display_data"
    }
   ],
   "source": [
    "%%jsxgraph -i jxgbox -m ./load-mathjax.js -h 400 -w 600\n",
    "var brd, k;\n",
    "JXG.Options.text.useMathJax = true;\n",
    "brd = JXG.JSXGraph.initBoard('jxgbox', {boundingbox:[-5,20,5,-5], axis:true, showNavigation:true, showCopyright:true});\n",
    "k = brd.create('slider',[[-4,-2],[3,-2],[-5,1,5]],{name:'n', snapWidth:1});\n",
    "brd.create('functiongraph', [function(t) {return JXG.Math.pow(Math.E,t*k.Value());}],{strokeColor:'#ff0000'});\n",
    "brd.create('text',[-4,15,\n",
    "  function() { \n",
    "    return '\\\\[f(x) = \\\\R{e}^{' + k.Value() + 'x}\\\\]';\n",
    "  }]);"
   ]
  },
  {
   "cell_type": "code",
   "execution_count": 3,
   "metadata": {},
   "outputs": [
    {
     "data": {
      "application/vnd.jupyter.widget-view+json": {
       "model_id": "95c1928d857042f1bc99d1d574029b71",
       "version_major": 2,
       "version_minor": 0
      },
      "text/plain": [
       "JSXGraph(value=None, code=\"var brd, k;\\nJXG.Options.text.useMathJax = true;\\nbrd = JXG.JSXGraph.initBoard('jxg…"
      ]
     },
     "metadata": {},
     "output_type": "display_data"
    }
   ],
   "source": [
    "_"
   ]
  },
  {
   "cell_type": "code",
   "execution_count": 4,
   "metadata": {},
   "outputs": [],
   "source": [
    "import divewidgets"
   ]
  },
  {
   "cell_type": "code",
   "execution_count": 5,
   "metadata": {},
   "outputs": [
    {
     "data": {
      "application/vnd.jupyter.widget-view+json": {
       "model_id": "1b8589cb4aae4e2a888432429a358d26",
       "version_major": 2,
       "version_minor": 0
      },
      "text/plain": [
       "JSXGraph(value=None)"
      ]
     },
     "metadata": {},
     "output_type": "display_data"
    }
   ],
   "source": [
    "w = divewidgets.JSXGraph()\n",
    "w"
   ]
  }
 ],
 "metadata": {
  "kernelspec": {
   "display_name": "Python 3 (ipykernel)",
   "language": "python",
   "name": "python3"
  },
  "language_info": {
   "codemirror_mode": {
    "name": "ipython",
    "version": 3
   },
   "file_extension": ".py",
   "mimetype": "text/x-python",
   "name": "python",
   "nbconvert_exporter": "python",
   "pygments_lexer": "ipython3",
   "version": "3.10.5"
  },
  "widgets": {
   "application/vnd.jupyter.widget-state+json": {
    "state": {
     "1b8589cb4aae4e2a888432429a358d26": {
      "model_module": "jupyter-divewidgets",
      "model_module_version": "^0.1.0",
      "model_name": "JSXGraphModel",
      "state": {
       "_model_module_version": "^0.1.0",
       "_view_module_version": "^0.1.0",
       "code": "const board = JXG.JSXGraph.initBoard(\"box\", { boundingbox: [-5, 5, 5, -5], axis:true });",
       "height": 600,
       "id": "box",
       "layout": "IPY_MODEL_24951deab967407db4127c9e0ceb7016",
       "mathjax_url": "https://cdn.jsdelivr.net/npm/mathjax@3/es5/tex-chtml.js",
       "width": 600
      }
     },
     "24951deab967407db4127c9e0ceb7016": {
      "model_module": "@jupyter-widgets/base",
      "model_module_version": "1.2.0",
      "model_name": "LayoutModel",
      "state": {}
     },
     "708f4675ae484f31b9d46ac6420dd8d3": {
      "model_module": "@jupyter-widgets/base",
      "model_module_version": "1.2.0",
      "model_name": "LayoutModel",
      "state": {}
     },
     "95c1928d857042f1bc99d1d574029b71": {
      "model_module": "jupyter-divewidgets",
      "model_module_version": "^0.1.0",
      "model_name": "JSXGraphModel",
      "state": {
       "_model_module_version": "^0.1.0",
       "_view_module_version": "^0.1.0",
       "code": "var brd, k;\nJXG.Options.text.useMathJax = true;\nbrd = JXG.JSXGraph.initBoard('jxgbox', {boundingbox:[-5,20,5,-5], axis:true, showNavigation:true, showCopyright:true});\nk = brd.create('slider',[[-4,-2],[3,-2],[-5,1,5]],{name:'n', snapWidth:1});\nbrd.create('functiongraph', [function(t) {return JXG.Math.pow(Math.E,t*k.Value());}],{strokeColor:'#ff0000'});\nbrd.create('text',[-4,15,\n  function() { \n    return '\\\\[f(x) = \\\\R{e}^{' + k.Value() + 'x}\\\\]';\n  }]);\n",
       "height": 400,
       "id": "jxgbox",
       "layout": "IPY_MODEL_708f4675ae484f31b9d46ac6420dd8d3",
       "mathjax_url": "./load-mathjax.js",
       "width": 600
      }
     }
    },
    "version_major": 2,
    "version_minor": 0
   }
  }
 },
 "nbformat": 4,
 "nbformat_minor": 4
}
